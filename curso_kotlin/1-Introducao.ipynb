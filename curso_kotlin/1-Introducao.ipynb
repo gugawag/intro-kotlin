{
 "cells": [
  {
   "cell_type": "markdown",
   "source": [
    "![Logo do Kotlin](https://upload.wikimedia.org/wikipedia/commons/thumb/d/d4/Kotlin_logo.svg/2560px-Kotlin_logo.svg.png)\n",
    "# Introduçao a Kotlin\n",
    "Nessa primeira parte, iremos mostrar o básico da linguagem Kotlin, como variáveis, operadores, estruturas de controle, funções, classes e objetos. Em seguida, entraremos em detalhes sobre cada um dos itens citados nessa seção.\n",
    "Use este material não apenas como um guia de estudo, mas também para praticar, já que cada código abaixo pode ser alterado e executado para ver os resultados. \n",
    "## O que é Kotlin?\n",
    "Kotlin é uma linguagem de programação moderna, orientada a objetos e funcional, que roda na máquina virtual Java (JVM). Ela foi criada pela JetBrains, a mesma empresa que desenvolve a IDE IntelliJ IDEA, e foi lançada em 2011. Em 2017, a Google anunciou que Kotlin seria uma das linguagens suportadas para o desenvolvimento de aplicativos Android, e desde então, o uso de Kotlin para desenvolvimento Android tem crescido rapidamente. Em 2019, a Google anunciou que Kotlin seria a linguagem preferencial para desenvolvimento Android. \n",
    "\n",
    "[Link para a documentação oficial do Kotlin](https://kotlinlang.org/docs/home.html)\n",
    "[Link para programar em Kotlin na web](https://play.kotlinlang.org/#eyJ2ZXJzaW9uIjoiMS45LjIyIiwicGxhdGZvcm0iOiJqYXZhIiwiYXJncyI6IiIsIm5vbmVNYXJrZXJzIjp0cnVlLCJ0aGVtZSI6ImlkZWEiLCJjb2RlIjoiLyoqXG4gKiBZb3UgY2FuIGVkaXQsIHJ1biwgYW5kIHNoYXJlIHRoaXMgY29kZS5cbiAqIHBsYXkua290bGlubGFuZy5vcmdcbiAqL1xuZnVuIG1haW4oKSB7XG4gICAgcHJpbnRsbihcIkhlbGxvLCB3b3JsZCEhIVwiKVxufSJ9)"
   ],
   "metadata": {
    "collapsed": false
   }
  },
  {
   "cell_type": "markdown",
   "source": [
    "Vamos começar com o mais básico: o famoso hello world, em Kotlin."
   ],
   "metadata": {
    "collapsed": false
   }
  },
  {
   "cell_type": "code",
   "outputs": [
    {
     "name": "stdout",
     "output_type": "stream",
     "text": [
      "Aloh, World!\r\n"
     ]
    }
   ],
   "source": [
    "fun main() {\n",
    "    println(\"Aloh, World!\")\n",
    "}\n",
    "main()"
   ],
   "metadata": {
    "collapsed": false,
    "ExecuteTime": {
     "end_time": "2024-03-04T00:27:28.463540700Z",
     "start_time": "2024-03-04T00:27:28.288028800Z"
    }
   },
   "execution_count": 1
  },
  {
   "cell_type": "markdown",
   "source": [
    "Essa é uma função que imprime \"Hello, World!\" na tela. A função main é a função principal do programa, e é onde o programa começa a ser executado. Por isso, além de definir uma função main com a palavra chave **fun**, é necessário chamar essa função para que o programa seja executado. Na linha 2 da função main, temos a chamada da função **println** (similar a System.out.println em Java), que imprime o texto passado na saída padrão (normalmente, a tela). Essa função imprime o texto e pula uma linha. Se quisermos imprimir o texto sem pular uma linha, usamos a função **print**. "
   ],
   "metadata": {
    "collapsed": false
   }
  },
  {
   "cell_type": "markdown",
   "source": [
    "## Variáveis\n",
    "Temos basicamente 4 tipos de \"variáveis\" em Kotlin: **var**, **val**, **const** e **lateinit**.\n",
    "\n",
    "Mas, nesse primeiro momento, vamos focar nas duas primeiras.\n",
    "\n",
    "O **var** é uma variável mutável, ou seja, seu valor pode ser alterado.\n",
    "\n",
    "O **val** é uma variável imutável, ou seja, seu valor não pode ser alterado.\n",
    "\n",
    "Vamos ver um exemplo de cada um:"
   ],
   "metadata": {
    "collapsed": false
   }
  },
  {
   "cell_type": "code",
   "outputs": [
    {
     "name": "stdout",
     "output_type": "stream",
     "text": [
      "20\r\n"
     ]
    }
   ],
   "source": [
    "var x = 10\n",
    "x = 20\n",
    "println(x)"
   ],
   "metadata": {
    "collapsed": false,
    "ExecuteTime": {
     "end_time": "2024-03-04T00:27:28.598940200Z",
     "start_time": "2024-03-04T00:27:28.468547700Z"
    }
   },
   "execution_count": 2
  },
  {
   "cell_type": "markdown",
   "source": [
    "Nesse exemplo, a variável x é mutável, então podemos alterar seu valor de 10 para 20. Vejamos o uso de **val**:"
   ],
   "metadata": {
    "collapsed": false
   }
  },
  {
   "cell_type": "code",
   "outputs": [],
   "source": [
    "val y = 10\n",
    "//y = 20 // Isso dará erro"
   ],
   "metadata": {
    "collapsed": false,
    "ExecuteTime": {
     "end_time": "2024-03-04T00:27:28.665239400Z",
     "start_time": "2024-03-04T00:27:28.603936900Z"
    }
   },
   "execution_count": 3
  },
  {
   "cell_type": "markdown",
   "source": [
    "Nesse exemplo acima, a variável y é imutável, então não podemos alterar seu valor de 10 para 20. Se tentarmos fazer isso, o programa não compilará. Descomente o código acima, da linha 20, para ver o erro."
   ],
   "metadata": {
    "collapsed": false
   }
  },
  {
   "cell_type": "markdown",
   "source": [
    "## Tipos de dados\n",
    "Kotlin é uma linguagem fortemente tipada, ou seja, todas as variáveis devem ter um tipo. Os tipos primitivos em Kotlin são: **Int**, **Long**, **Short**, **Byte**, **Float**, **Double**, **Char**, **Boolean**. Além disso, temos o tipo **String** e o tipo **Any**. Assim como em Java, que toda classe herda de Object, em Kotlin, toda classe herda de Any.\n",
    "Vejamos alguns exemplos de declaração de variáveis com tipos primitivos:"
   ],
   "metadata": {
    "collapsed": false
   }
  },
  {
   "cell_type": "code",
   "outputs": [],
   "source": [
    "val a: Int = 10\n",
    "val b: Long = 10L\n",
    "val c: Short = 10\n",
    "val d: Byte = 10\n",
    "val e: Float = 10.0f\n",
    "val f: Double = 10.0\n",
    "val g: Char = 'a'\n",
    "val h: Boolean = true\n",
    "val i: String = \"Hello, World!\""
   ],
   "metadata": {
    "collapsed": false,
    "ExecuteTime": {
     "end_time": "2024-03-04T00:27:28.789080800Z",
     "start_time": "2024-03-04T00:27:28.669249700Z"
    }
   },
   "execution_count": 4
  },
  {
   "cell_type": "markdown",
   "source": [
    "Podemos imprimir os valores das variáveis num print da seguinte forma:"
   ],
   "metadata": {
    "collapsed": false
   }
  },
  {
   "cell_type": "code",
   "outputs": [
    {
     "name": "stdout",
     "output_type": "stream",
     "text": [
      "a = 10\r\n"
     ]
    }
   ],
   "source": [
    "println(\"a = $a\")"
   ],
   "metadata": {
    "collapsed": false,
    "ExecuteTime": {
     "end_time": "2024-03-04T00:27:28.936427Z",
     "start_time": "2024-03-04T00:27:28.794083400Z"
    }
   },
   "execution_count": 5
  },
  {
   "cell_type": "markdown",
   "source": [
    "O símbolo \\$ é usado para interpolar variáveis em strings. Se quisermos interpolar uma expressão, usamos o dólar com {}:"
   ],
   "metadata": {
    "collapsed": false
   }
  },
  {
   "cell_type": "code",
   "outputs": [
    {
     "name": "stdout",
     "output_type": "stream",
     "text": [
      "a + b = 20\r\n"
     ]
    }
   ],
   "source": [
    "println(\"a + b = ${a + b}\")"
   ],
   "metadata": {
    "collapsed": false,
    "ExecuteTime": {
     "end_time": "2024-03-04T00:27:29.036079600Z",
     "start_time": "2024-03-04T00:27:28.940832200Z"
    }
   },
   "execution_count": 6
  },
  {
   "cell_type": "markdown",
   "source": [
    "## Coleções\n",
    "Kotlin tem várias coleções, como **List**, **Set** e **Map**. Vamos ver um exemplo de cada uma:"
   ],
   "metadata": {
    "collapsed": false
   }
  },
  {
   "cell_type": "code",
   "outputs": [
    {
     "name": "stdout",
     "output_type": "stream",
     "text": [
      "O último elemento da lista é 5\r\n"
     ]
    }
   ],
   "source": [
    "val numeros = listOf(1, 2, 3, 4, 5)\n",
    "println(\"O último elemento da lista é ${numeros[numeros.size - 1]}\")"
   ],
   "metadata": {
    "collapsed": false,
    "ExecuteTime": {
     "end_time": "2024-03-04T00:27:29.217248900Z",
     "start_time": "2024-03-04T00:27:29.040085600Z"
    }
   },
   "execution_count": 7
  },
  {
   "cell_type": "markdown",
   "source": [
    "A função **listOf** cria uma lista imutável. Ou seja, não há o método **add* para acrescentar novos elementos. O tipo dessa lista é **List<Int>**. Você não precisa especificar o tipo, já que o Kotlin tem inferência de tipos. Mas, se quiser especificar, pode fazer da seguinte forma:"
   ],
   "metadata": {
    "collapsed": false
   }
  },
  {
   "cell_type": "code",
   "outputs": [],
   "source": [
    "val numeros2: List<Int> = listOf(1, 2, 3, 4, 5)"
   ],
   "metadata": {
    "collapsed": false,
    "ExecuteTime": {
     "end_time": "2024-03-04T00:27:29.297635500Z",
     "start_time": "2024-03-04T00:27:29.221242100Z"
    }
   },
   "execution_count": 8
  },
  {
   "cell_type": "markdown",
   "source": [
    "Se tentarmos acrescentar um novo elemento na lista, o programa não compilará. Descomente o código abaixo para ver o erro:"
   ],
   "metadata": {
    "collapsed": false
   }
  },
  {
   "cell_type": "code",
   "outputs": [],
   "source": [
    "val numeros3 = listOf(1, 2, 3, 4, 5)\n",
    "//numeros3.add(6)"
   ],
   "metadata": {
    "collapsed": false,
    "ExecuteTime": {
     "end_time": "2024-03-04T00:27:29.375358600Z",
     "start_time": "2024-03-04T00:27:29.299642100Z"
    }
   },
   "execution_count": 9
  },
  {
   "cell_type": "markdown",
   "source": [
    "Porém, podemos criar uma nova lista a partir da atual, com um novo elemento:"
   ],
   "metadata": {
    "collapsed": false
   }
  },
  {
   "cell_type": "code",
   "outputs": [
    {
     "name": "stdout",
     "output_type": "stream",
     "text": [
      "[1, 2, 3, 4, 5, 6]\r\n",
      "[1, 2, 3, 4, 5, 6]\r\n"
     ]
    }
   ],
   "source": [
    "val numeros4 = numeros.plus(6)\n",
    "// ou\n",
    "val numeros5 = numeros + 6\n",
    "println(numeros4)\n",
    "println(numeros5)"
   ],
   "metadata": {
    "collapsed": false,
    "ExecuteTime": {
     "end_time": "2024-03-04T00:27:29.612144200Z",
     "start_time": "2024-03-04T00:27:29.378352100Z"
    }
   },
   "execution_count": 10
  },
  {
   "cell_type": "markdown",
   "source": [
    "Para criar uma lista mutável, usamos a função **mutableListOf**:"
   ],
   "metadata": {
    "collapsed": false
   }
  },
  {
   "cell_type": "code",
   "outputs": [
    {
     "name": "stdout",
     "output_type": "stream",
     "text": [
      "[1, 2, 3, 4, 5, 6]\r\n"
     ]
    }
   ],
   "source": [
    "val numeros6 = mutableListOf(1, 2, 3, 4, 5)\n",
    "numeros6.add(6)\n",
    "println(numeros6)"
   ],
   "metadata": {
    "collapsed": false,
    "ExecuteTime": {
     "end_time": "2024-03-04T00:27:29.721411700Z",
     "start_time": "2024-03-04T00:27:29.616216700Z"
    }
   },
   "execution_count": 11
  },
  {
   "cell_type": "markdown",
   "source": [
    "## Condicionais"
   ],
   "metadata": {
    "collapsed": false
   }
  },
  {
   "cell_type": "code",
   "outputs": [
    {
     "name": "stdout",
     "output_type": "stream",
     "text": [
      "Menor de idade\r\n"
     ]
    }
   ],
   "source": [
    "var ehMenorIdade = true\n",
    "if (ehMenorIdade) {\n",
    "    println(\"Menor de idade\")\n",
    "} else {\n",
    "    println(\"Maior de idade\")\n",
    "}"
   ],
   "metadata": {
    "collapsed": false,
    "ExecuteTime": {
     "end_time": "2024-03-04T00:27:29.839896Z",
     "start_time": "2024-03-04T00:27:29.725548600Z"
    }
   },
   "execution_count": 12
  },
  {
   "cell_type": "markdown",
   "source": [
    "Podemos usar o **if** como uma expressão, ou seja, podemos atribuir o resultado do **if** a uma variável:"
   ],
   "metadata": {
    "collapsed": false
   }
  },
  {
   "cell_type": "code",
   "outputs": [
    {
     "name": "stdout",
     "output_type": "stream",
     "text": [
      "Menor de idade\r\n"
     ]
    }
   ],
   "source": [
    "val idade = 17\n",
    "val resultado = if (idade < 18) \"Menor de idade\" else \"Maior de idade\"\n",
    "println(resultado)"
   ],
   "metadata": {
    "collapsed": false,
    "ExecuteTime": {
     "end_time": "2024-03-04T00:27:29.963780500Z",
     "start_time": "2024-03-04T00:27:29.841915300Z"
    }
   },
   "execution_count": 13
  },
  {
   "cell_type": "markdown",
   "source": [
    "Também podemos fazer uma função de forma mais simples usando esse padrão do if:"
   ],
   "metadata": {
    "collapsed": false
   }
  },
  {
   "cell_type": "code",
   "outputs": [
    {
     "name": "stdout",
     "output_type": "stream",
     "text": [
      "Menor de idade\r\n",
      "Maior de idade\r\n"
     ]
    }
   ],
   "source": [
    "fun textoMenorIdade(idade: Int) = if (idade < 18) \"Menor de idade\" else \"Maior de idade\"\n",
    "println(textoMenorIdade(17))\n",
    "println(textoMenorIdade(20))"
   ],
   "metadata": {
    "collapsed": false,
    "ExecuteTime": {
     "end_time": "2024-03-04T00:27:30.052079100Z",
     "start_time": "2024-03-04T00:27:29.966355800Z"
    }
   },
   "execution_count": 14
  },
  {
   "cell_type": "markdown",
   "source": [
    "## Laços\n",
    "Os laços em Kotlin são **for** e **while**. Vamos ver um exemplo de cada um:"
   ],
   "metadata": {
    "collapsed": false
   }
  },
  {
   "cell_type": "code",
   "outputs": [
    {
     "name": "stdout",
     "output_type": "stream",
     "text": [
      " 1 2 3 4 5 6 7 8 9 10\n",
      "until\r\n",
      " 1 2 3 4 5 6 7 8 9\n",
      "downto\r\n",
      " 10 9 8 7 6 5 4 3 2 1\n",
      "step\r\n",
      " 1 3 5 7 9"
     ]
    }
   ],
   "source": [
    "// for de 1 a 10\n",
    "for (i in 1..10) {\n",
    "    print(\" $i\")\n",
    "}\n",
    "println(\"\\nuntil\")\n",
    "\n",
    "// for de 1 até 9 (exclui-se o último valor)\n",
    "for (i in 1 until 10) {\n",
    "    print(\" $i\")\n",
    "}\n",
    "\n",
    "println(\"\\ndownto\")\n",
    "// for de 10 até 1\n",
    "for (i in 10 downTo 1) {\n",
    "    print(\" $i\")\n",
    "}\n",
    "\n",
    "println(\"\\nstep\")\n",
    "// for de 1 a 10, pulando de 2 em 2\n",
    "for (i in 1..10 step 2) {\n",
    "    print(\" $i\")\n",
    "}"
   ],
   "metadata": {
    "collapsed": false,
    "ExecuteTime": {
     "end_time": "2024-03-04T00:27:30.387837200Z",
     "start_time": "2024-03-04T00:27:30.055079800Z"
    }
   },
   "execution_count": 15
  },
  {
   "cell_type": "markdown",
   "source": [
    "O **for** em Kotlin é bem poderoso, e pode ser usado para percorrer qualquer coisa que seja iterável. Por exemplo, podemos percorrer uma lista:"
   ],
   "metadata": {
    "collapsed": false
   }
  },
  {
   "cell_type": "code",
   "outputs": [
    {
     "name": "stdout",
     "output_type": "stream",
     "text": [
      " 1 2 3 4 5"
     ]
    }
   ],
   "source": [
    "val lista = listOf(1, 2, 3, 4, 5)\n",
    "for (i in lista) {\n",
    "    print(\" $i\")\n",
    "}"
   ],
   "metadata": {
    "collapsed": false,
    "ExecuteTime": {
     "end_time": "2024-03-04T00:27:30.486680300Z",
     "start_time": "2024-03-04T00:27:30.390841500Z"
    }
   },
   "execution_count": 16
  },
  {
   "cell_type": "markdown",
   "source": [
    "Também podemos percorrer uma lista usando o forEach:"
   ],
   "metadata": {
    "collapsed": false
   }
  },
  {
   "cell_type": "code",
   "outputs": [
    {
     "name": "stdout",
     "output_type": "stream",
     "text": [
      "12345"
     ]
    }
   ],
   "source": [
    "val lista2 = listOf(1, 2, 3, 4, 5)\n",
    "lista2.forEach { print(it) }"
   ],
   "metadata": {
    "collapsed": false,
    "ExecuteTime": {
     "end_time": "2024-03-04T00:27:30.649723200Z",
     "start_time": "2024-03-04T00:27:30.489676600Z"
    }
   },
   "execution_count": 17
  },
  {
   "cell_type": "markdown",
   "source": [
    "Perceba que o forEach recebe um lambda como parâmetro. O lambda é uma função anônima, ou seja, uma função sem nome. No caso acima, o lambda recebe um parâmetro, que é o elemento da lista, e imprime esse elemento. Se o lambda tiver apenas um parâmetro, podemos omitir o nome do parâmetro e usar **it**. Isso é o mesmo que o código abaixo:"
   ],
   "metadata": {
    "collapsed": false
   }
  },
  {
   "cell_type": "code",
   "outputs": [
    {
     "name": "stdout",
     "output_type": "stream",
     "text": [
      "12345"
     ]
    }
   ],
   "source": [
    "val lista3 = listOf(1, 2, 3, 4, 5)\n",
    "lista3.forEach { elemento -> print(elemento) }"
   ],
   "metadata": {
    "collapsed": false,
    "ExecuteTime": {
     "end_time": "2024-03-04T00:27:30.775202600Z",
     "start_time": "2024-03-04T00:27:30.651731100Z"
    }
   },
   "execution_count": 18
  },
  {
   "cell_type": "markdown",
   "source": [
    "O while é similar ao while de outras linguagens:"
   ],
   "metadata": {
    "collapsed": false
   }
  },
  {
   "cell_type": "code",
   "outputs": [
    {
     "name": "stdout",
     "output_type": "stream",
     "text": [
      " 0 1 2 3 4 5 6 7 8 9"
     ]
    }
   ],
   "source": [
    "var i = 0\n",
    "while (i < 10) {\n",
    "    print(\" $i\")\n",
    "    i++\n",
    "}"
   ],
   "metadata": {
    "collapsed": false,
    "ExecuteTime": {
     "end_time": "2024-03-04T00:27:30.881606100Z",
     "start_time": "2024-03-04T00:27:30.779193300Z"
    }
   },
   "execution_count": 19
  },
  {
   "cell_type": "markdown",
   "source": [
    "## When\n",
    "O **when** é similar ao **switch** de outras linguagens, mas é bem mais poderoso. Vamos ver um exemplo:"
   ],
   "metadata": {
    "collapsed": false
   }
  },
  {
   "cell_type": "code",
   "outputs": [
    {
     "name": "stdout",
     "output_type": "stream",
     "text": [
      "w é 2\r\n"
     ]
    }
   ],
   "source": [
    "val w = 2\n",
    "when (w) {\n",
    "    1 -> println(\"w é 1\")\n",
    "    2 -> println(\"w é 2\")\n",
    "    3 -> println(\"w é 3\")\n",
    "    else -> println(\"w não é 1, 2 ou 3\")\n",
    "}"
   ],
   "metadata": {
    "collapsed": false,
    "ExecuteTime": {
     "end_time": "2024-03-04T00:27:30.997235900Z",
     "start_time": "2024-03-04T00:27:30.883756900Z"
    }
   },
   "execution_count": 20
  },
  {
   "cell_type": "markdown",
   "source": [
    "## Entrada do usuário\n",
    "A entrada do usuário pode ser feita com a função **readLine** (obs.: como estamos executando o Kotlin no Jupyter, a função **readLine** não funcionará aqui, mas funcionará em um ambiente de desenvolvimento normal, como o IntelliJ IDEA ou o VS Code, por exemplo). Vejamos um exemplo (está comentado porque, aqui no Notebook, não é possível pegar da entrada do usuário):"
   ],
   "metadata": {
    "collapsed": false
   }
  },
  {
   "cell_type": "code",
   "outputs": [],
   "source": [
    "//val nome = readLine()"
   ],
   "metadata": {
    "collapsed": false,
    "ExecuteTime": {
     "end_time": "2024-03-04T00:27:31.038290900Z",
     "start_time": "2024-03-04T00:27:31.000237400Z"
    }
   },
   "execution_count": 21
  },
  {
   "cell_type": "markdown",
   "source": [
    "Se quiser pegar um dado inteiro, por exemplo, é necessário transformar o valor retornado por **readLine** em um inteiro:"
   ],
   "metadata": {
    "collapsed": false
   }
  },
  {
   "cell_type": "code",
   "outputs": [],
   "source": [
    "//val idade = readLine()!!.toInt()\n",
    "// o !! é para dizer que a variável não é nula. Estudaremos isso mais adiante."
   ],
   "metadata": {
    "collapsed": false,
    "ExecuteTime": {
     "end_time": "2024-03-04T00:27:31.078310600Z",
     "start_time": "2024-03-04T00:27:31.040303700Z"
    }
   },
   "execution_count": 22
  }
 ],
 "metadata": {
  "kernelspec": {
   "display_name": "Kotlin",
   "language": "kotlin",
   "name": "kotlin"
  },
  "language_info": {
   "name": "kotlin",
   "version": "1.9.0",
   "mimetype": "text/x-kotlin",
   "file_extension": ".kt",
   "pygments_lexer": "kotlin",
   "codemirror_mode": "text/x-kotlin",
   "nbconvert_exporter": ""
  },
  "ktnbPluginMetadata": {
   "projectDependencies": [
    "introducao-kotlin"
   ]
  }
 },
 "nbformat": 4,
 "nbformat_minor": 0
}
