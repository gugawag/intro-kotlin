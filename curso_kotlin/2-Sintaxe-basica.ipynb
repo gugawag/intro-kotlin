{
 "cells": [
  {
   "cell_type": "markdown",
   "source": [
    "![Logo do Kotlin](https://upload.wikimedia.org/wikipedia/commons/thumb/d/d4/Kotlin_logo.svg/2560px-Kotlin_logo.svg.png)\n",
    "# Sintaxe básica\n",
    "Neste guia, vamos apresentar a sintaxe básica da linguagem de programação Kotlin. Os tópicos a serem contemplados nele são os seguintes:\n",
    "- variáveis - `val` (imutável) e `var` (mutável);\n",
    "- tipos de dados - `Int`, `Double`, `Boolean`, `String`;\n",
    "- operadores - operadores aritméticos (`+`, `-`, `*`, `/`, `%`) e operadores de comparação (`==`, `!=`, `<`, `>`, `<=`, `>=`);\n",
    "- controle de fluxo - `if-else`, `when`, `for`, `while`.\n",
    "\n",
    "## Considerações iniciais\n",
    "É importante destacar que este guia pode evoluir conforme as atualizações na linguagem de programação Kotlin. Além disso,\n",
    "está aberto a sugestões de terceiros, possibilitando alcançar um alto nível de qualidade e aprimorar a compreensão de Kotlin para todos os leitores.\n",
    "\n",
    "As referências utilizadas para construir este guia estão disponíveis ao final do documento.\n",
    "\n",
    "Este documento foi desenvolvido pelos seguintes alunos de TSI do IFPB, sob subervisão do professor Gustavo Wagner (2024.1):\n",
    "1. Ian Ribeiro\n",
    "2. Lucas Palmeira\n",
    "3. Renato Bezerra\n",
    "4. Samuel Merson\n",
    "5. Yago César \n",
    "\n",
    "## 1. Tipos de dados\n",
    "A linguagem de programação Kotlin possui tipos de dados que contemplam números inteiros, números de ponto flutuante, caracteres, sequências de caracteres, booleanos e nulo. A seguir, há várias seções mostrando como a linguagem Kotlin lida com cada um desses tipos.\n",
    "\n",
    "### 1.1. Números inteiros\n",
    "Para lidar com números inteiros em Kotlin, é possível utilizar os seguintes tipos:\n",
    "\n",
    "- `Byte` - representa números inteiros de 8 bits.\n",
    "- `Short` - representa números inteiros de 16 bits.\n",
    "- `Int` - representa números inteiros de 32 bits.\n",
    "- `Long` - representa números inteiros de 64 bits.\n",
    "\n",
    "Exemplo de declaração, inicialização e de conversão:"
   ],
   "metadata": {
    "collapsed": false
   }
  },
  {
   "cell_type": "code",
   "outputs": [],
   "source": [
    "val numeroByte: Byte = 10\n",
    "val numeroInt: Int = numeroByte.toInt()"
   ],
   "metadata": {
    "collapsed": false,
    "is_executing": true
   },
   "execution_count": null
  },
  {
   "cell_type": "markdown",
   "source": [
    "O Kotlin consegue inferir o tipo de uma variável (*type inference*). Caso uma variável numérica receba um valor inteiro (sem casas decimais), o compilador Kotlin poderá inferir o tipo dela como `Int` ou `Long` a depender do quão grande é o valor. Além disso, o Kotlin permite que você use o caractere _ para separar os dígitos em números grandes, tornando-os mais legíveis. Isso é puramente para conveniência e não afeta o valor do número. Veja o exemplo a seguir para entender melhor."
   ],
   "metadata": {
    "collapsed": false
   }
  },
  {
   "cell_type": "code",
   "outputs": [],
   "source": [
    "val numeroInteiro = 10  // o tipo será Int\n",
    "val numeroLongo = 1_900_000_000_000 // o tipo será Long"
   ],
   "metadata": {
    "collapsed": false,
    "ExecuteTime": {
     "end_time": "2024-03-04T07:46:54.299200Z",
     "start_time": "2024-03-04T07:46:54.275199800Z"
    }
   },
   "execution_count": 259
  },
  {
   "cell_type": "markdown",
   "source": [
    "Quando se deseja explicitar o tipo de uma variável no código, deve-se adicionar um `:` após o nome da variável e, em seguida, especificar o tipo. Além disso, alguns tipos de dados permitem formas alternativas de declaração. Por exemplo, um número Long pode ser declarado acrescentando-se um L ao final do número, como mostra o exemplo abaixo."
   ],
   "metadata": {
    "collapsed": false
   }
  },
  {
   "cell_type": "code",
   "outputs": [],
   "source": [
    "val numeroInteiro: Int = 10 // Tipo inteiro\n",
    "val numeroLongo = 100L // Será do tipo Long, pois o L equivale a acrecentar :Long"
   ],
   "metadata": {
    "collapsed": false
   }
  },
  {
   "cell_type": "markdown",
   "source": [
    "### 1.2. Números de ponto flutuante\n",
    "Em Kotlin, é possível usar os seguintes tipos para lidar com números de ponto flutuante:\n",
    "\n",
    "- `Float` - representa números de ponto flutuante de precisão simples (32 bits).\n",
    "- `Double` - representa números de ponto flutuante de precisão dupla (64 bits).\n",
    "\n",
    "A seguir, há um exemplo de declaração, inicialização e de conversão de um número `Float` para `Double`."
   ],
   "metadata": {
    "collapsed": false
   }
  },
  {
   "cell_type": "code",
   "outputs": [],
   "source": [
    "val numeroFloat: Float = 3.14f // o sufixo f indica que o número deve ser tratado como float de modo explícito\n",
    "val numeroDouble: Double = numeroFloat.toDouble()"
   ],
   "metadata": {
    "collapsed": false,
    "ExecuteTime": {
     "end_time": "2024-03-04T07:46:54.348205200Z",
     "start_time": "2024-03-04T07:46:54.319199600Z"
    }
   },
   "execution_count": 260
  },
  {
   "cell_type": "markdown",
   "source": [
    "### 1.3. Caractere\n",
    "O tipo `Char` representa um único caractere unicode. Assim como na linguagem Java, um caractere é cercado por aspas simples, ou seja, `'`. Portanto, é muito importante diferenciar o uso de `'` (usado para caracteres) do uso de `\"` (usado para sequências de caracteres).\n",
    "\n",
    "Exemplo de declaração e inicialização:"
   ],
   "metadata": {
    "collapsed": false
   }
  },
  {
   "cell_type": "code",
   "outputs": [],
   "source": [
    "val caractere: Char = 'A'"
   ],
   "metadata": {
    "collapsed": false,
    "ExecuteTime": {
     "end_time": "2024-03-04T07:46:54.430202800Z",
     "start_time": "2024-03-04T07:46:54.400201400Z"
    }
   },
   "execution_count": 261
  },
  {
   "cell_type": "markdown",
   "source": [
    "### 1.4. Booleano\n",
    "Assim como em outras linguagens, o tipo `Boolean` representa valores booleanos `true` (verdadeiro) ou `false` (falso).\n",
    "\n",
    "Exemplo de declaração e inicialização:"
   ],
   "metadata": {
    "collapsed": false
   }
  },
  {
   "cell_type": "code",
   "outputs": [],
   "source": [
    "val estahAtivo: Boolean = true"
   ],
   "metadata": {
    "collapsed": false,
    "ExecuteTime": {
     "end_time": "2024-03-04T07:46:54.484203700Z",
     "start_time": "2024-03-04T07:46:54.450210Z"
    }
   },
   "execution_count": 262
  },
  {
   "cell_type": "markdown",
   "source": [
    "### 1.5. Sequências de caracteres (strings)\n",
    "Sequências de caracteres (`String`) são criadas usando aspas duplas `\"`. Não use aspas simples para criar strings, já que estas são usadas para criar caracteres.\n",
    "\n",
    "Exemplo de declaração e inicialização:"
   ],
   "metadata": {
    "collapsed": false
   }
  },
  {
   "cell_type": "code",
   "outputs": [],
   "source": [
    "val ola: String = \"Hello\""
   ],
   "metadata": {
    "collapsed": false,
    "ExecuteTime": {
     "end_time": "2024-03-04T07:46:54.600268700Z",
     "start_time": "2024-03-04T07:46:54.569263900Z"
    }
   },
   "execution_count": 263
  },
  {
   "cell_type": "markdown",
   "source": [
    "#### 1.5.1. Conversão de caractere para string\n",
    "Para converter um caractere ou um número em uma string, você pode usar o método `toString()`."
   ],
   "metadata": {
    "collapsed": false
   }
  },
  {
   "cell_type": "code",
   "outputs": [],
   "source": [
    "val numeroEmString = 42.toString()\n",
    "val caractereEmString = 'A'.toString()"
   ],
   "metadata": {
    "collapsed": false,
    "ExecuteTime": {
     "end_time": "2024-03-04T07:46:54.709256400Z",
     "start_time": "2024-03-04T07:46:54.680262500Z"
    }
   },
   "execution_count": 264
  },
  {
   "cell_type": "markdown",
   "source": [
    "É possível converter outros tipos em string:"
   ],
   "metadata": {
    "collapsed": false
   }
  },
  {
   "cell_type": "code",
   "outputs": [],
   "source": [
    "val booleanParaString = true.toString()"
   ],
   "metadata": {
    "collapsed": false,
    "ExecuteTime": {
     "end_time": "2024-03-04T07:46:54.873277100Z",
     "start_time": "2024-03-04T07:46:54.844258300Z"
    }
   },
   "execution_count": 266
  },
  {
   "cell_type": "markdown",
   "source": [
    "### 1.6. Nulo (null)\n",
    "O nulo (`null`) é um valor que uma variável pode receber. Para que uma variável possa receber `null`, ela deve ter um símbolo de interrogação após o tipo da variável (`T?`, onde T é um tipo).\n",
    "\n",
    "Exemplo de declaração e inicialização:"
   ],
   "metadata": {
    "collapsed": false
   }
  },
  {
   "cell_type": "code",
   "outputs": [],
   "source": [
    "val inteiroOuNulo: Int? = null"
   ],
   "metadata": {
    "collapsed": false,
    "ExecuteTime": {
     "end_time": "2024-03-04T07:46:54.895265800Z",
     "start_time": "2024-03-04T07:46:54.874257700Z"
    }
   },
   "execution_count": 267
  },
  {
   "cell_type": "markdown",
   "source": [
    "Em Kotlin, as variáveis podem ser nulas (`null`) se explicitamente declaradas. Como já mencionado anteriormente, indicamos que uma variável pode receber `null` se, ao lado do seu tipo, houver um símbolo de interrogação (`?`), ou seja, `T?` (T é um tipo qualquer)."
   ],
   "metadata": {
    "collapsed": false
   }
  },
  {
   "cell_type": "code",
   "outputs": [],
   "source": [
    "var stringOuNulo: String? = \"Valor\"  // Agora, a variável stringOuNulo possui um valor string, mas pode ser nulo em algum momento da execução, já que variáveis criadas usando 'var' são mutáveis\n",
    "println(stringOuNulo)\n",
    "\n",
    "stringOuNulo = null\n",
    "println(stringOuNulo)"
   ],
   "metadata": {
    "collapsed": false
   }
  },
  {
   "cell_type": "code",
   "outputs": [],
   "source": [
    "val numeroOuNulo: Int? = 42\n",
    "// Depois teste comentando a linha acima e descomentando a linha abaixo\n",
    "// val numeroOuNulo: Int? = null\n",
    "val string = numeroOuNulo?.toString() ?: \"Valor nulo\"  // caso o numeroOuNulo seja null, atribua \"Valor nulo\" a string.\n",
    "\n",
    " println(string)"
   ],
   "metadata": {
    "collapsed": false
   }
  },
  {
   "cell_type": "markdown",
   "source": [],
   "metadata": {
    "collapsed": false
   }
  },
  {
   "cell_type": "markdown",
   "source": [
    "Para acessar propriedades ou chamar métodos em variáveis que podem ser nulas de forma segura (*safe calls*), o operador de segurança de chamada (`?.`) pode ser utilizado, evitando uma exceção `NullPointerException` (tentou-se chamar um método em cima de `null` por exemplo) tão comum na linguagem Java."
   ],
   "metadata": {
    "collapsed": false
   }
  },
  {
   "cell_type": "code",
   "outputs": [],
   "source": [
    "val meuNome: String? = \"João\"\n",
    "val tamanhoDoMeuNome = meuNome?.length  // só chamo a propriedade 'length' caso 'meuNome' não seja null\n",
    "\n",
    "println(\"Meu nome é $meuNome e ele possui $tamanhoDoMeuNome letras.\")"
   ],
   "metadata": {
    "collapsed": false
   }
  },
  {
   "cell_type": "markdown",
   "source": [
    "Além disso, o operador Elvis (`?:`) pode ser usado para fornecer um valor padrão caso a variável seja nula."
   ],
   "metadata": {
    "collapsed": false
   }
  },
  {
   "cell_type": "code",
   "outputs": [],
   "source": [
    "val palavra: String? = null\n",
    "val tamanhoDaPalavra = palavra?.length ?: 0\n",
    "println(tamanhoDaPalavra)"
   ],
   "metadata": {
    "collapsed": false
   }
  },
  {
   "cell_type": "markdown",
   "source": [
    "## 2. Tipos de variáveis\n",
    "Em Kotlin, os dois principais tipos usados para criar uma variável são `val` para valores imutáveis e `var` para valores mutáveis. Veja o exemplo a seguir para entender melhor."
   ],
   "metadata": {
    "collapsed": false
   }
  },
  {
   "cell_type": "code",
   "outputs": [
    {
     "name": "stdout",
     "output_type": "stream",
     "text": [
      "Sou imutável\r\n",
      "Sou mutável\r\n",
      "Novo valor de y\r\n"
     ]
    }
   ],
   "source": [
    "val X = \"Sou imutável\"  // na prática, o nome dado é \"constante\"\n",
    "var y = \"Sou mutável\"\n",
    "\n",
    "println(X)\n",
    "println(y)\n",
    "\n",
    "y = \"Novo valor de y\"\n",
    "println(y)\n",
    "// descomente as duas linhas abaixo e veja um problema aparecer\n",
    "//X = \"Novo valor de X\" // não compila pois X é uma \"variável\" que não pode ter seu valor modificado\n",
    "//println(X)"
   ],
   "metadata": {
    "collapsed": false,
    "ExecuteTime": {
     "end_time": "2024-03-04T07:46:55.000258800Z",
     "start_time": "2024-03-04T07:46:54.932264100Z"
    }
   },
   "execution_count": 268
  },
  {
   "cell_type": "markdown",
   "source": [
    "Além disso, é válido salientar que, assim como em outras linguagens (Java, por exemplo), uma variável não precisa ser inicializada (receber um valor) imediatamente. Entretanto, quando tal variável precisar ser usada, ela deve ser inicializada."
   ],
   "metadata": {
    "collapsed": false
   }
  },
  {
   "cell_type": "code",
   "outputs": [],
   "source": [
    "var number: Int\n",
    "number = 42\n",
    "println(\"O número é $number.\")"
   ],
   "metadata": {
    "collapsed": false
   }
  },
  {
   "cell_type": "markdown",
   "source": [
    "Se o resultado da expressão à esquerda do `?:` for `null`, a saída será o valor padrão definido na direita do operador. Caso não seja nula, a saída será o próprio resultado (à esquerda do operador `?:`).\n",
    "\n",
    "## 3. Interpolação de strings com variáveis\n",
    "A interpolação de strings em Kotlin permite a inserção de valores de variáveis ou de resultados de expressões dentro de strings. Para isso, utiliza-se a sintaxe &#36;expressao para resgatar o valor de uma variável e colocá-lo em uma string ou &#36;{expressao} para colocar o resultado da expressão em uma string."
   ],
   "metadata": {
    "collapsed": false
   }
  },
  {
   "cell_type": "code",
   "outputs": [
    {
     "name": "stdout",
     "output_type": "stream",
     "text": [
      "Meu nome é Gustavo e tenho 25 anos.\r\n"
     ]
    }
   ],
   "source": [
    "val nome = \"Gustavo\"\n",
    "val idade = 25\n",
    "println(\"Meu nome é $nome e tenho $idade anos.\")"
   ],
   "metadata": {
    "collapsed": false,
    "ExecuteTime": {
     "end_time": "2024-03-04T07:46:55.581566400Z",
     "start_time": "2024-03-04T07:46:55.533569200Z"
    }
   },
   "execution_count": 273
  },
  {
   "cell_type": "markdown",
   "source": [
    "Exemplo que utiliza uma expressão:"
   ],
   "metadata": {
    "collapsed": false
   }
  },
  {
   "cell_type": "code",
   "outputs": [
    {
     "name": "stdout",
     "output_type": "stream",
     "text": [
      "5 - 4 = 1\r\n"
     ]
    }
   ],
   "source": [
    "val a = 5\n",
    "val b = 4\n",
    "\n",
    "println(\"$a - $b = ${a - b}\")"
   ],
   "metadata": {
    "collapsed": false,
    "ExecuteTime": {
     "end_time": "2024-03-04T07:46:55.713566300Z",
     "start_time": "2024-03-04T07:46:55.662575900Z"
    }
   },
   "execution_count": 274
  },
  {
   "cell_type": "markdown",
   "source": [
    "## 4. Operadores\n",
    "### 4.1. Operadores aritméticos\n",
    "Os operadores aritméticos são essenciais para realizar cálculos e manipular dados numéricos em programas. Eles retornam um valor numérico correspondente ao resultado da operação matemática realizada. A seguir, há explicações e exemplos de uso dos operadores aritméticos na linguagem Kotlin.\n",
    "\n",
    "`+` (adição) - adiciona dois valores e obtém um resultado.\n"
   ],
   "metadata": {
    "collapsed": false
   }
  },
  {
   "cell_type": "code",
   "outputs": [
    {
     "name": "stdout",
     "output_type": "stream",
     "text": [
      "9\r\n",
      "13.209999999999999\r\n",
      "7.7182817\r\n",
      "abcakj\r\n",
      "9\r\n",
      "b\r\n",
      "9\r\n"
     ]
    }
   ],
   "source": [
    "import java.lang.Integer.sum\n",
    "\n",
    "println(5 + 4) // Somando dois inteiros. Resultado 9\n",
    "println(9.11 + 4.10) // Somando Double (64 bits). Resultado: ~ 13.21\n",
    "println(5 + 2.718281828434234f) // Somando inteiro com float (32 bits). Resultado: 7.7182817\n",
    "// Não é possível somar um Number com String na tentativa de concatenação\n",
    "println(\"abc\" + \"akj\") // Concatenação de String. Resultado: abcakj\n",
    "println(7L + 2L) // Somando Long (64 bits). Resultado: 9\n",
    "println('a' + 1)  // Somando uma unidade ao caractere 'a' (andando uma posição para frente). Resultado: 'b'\n",
    "println(sum(4, 5)) // Sem uso do operador, mas importando java.lang.Integer.sum e utilizando função própria. Resultado: 9"
   ],
   "metadata": {
    "collapsed": false,
    "ExecuteTime": {
     "end_time": "2024-03-04T07:46:55.886957Z",
     "start_time": "2024-03-04T07:46:55.783954300Z"
    }
   },
   "execution_count": 275
  },
  {
   "cell_type": "markdown",
   "source": [
    "`-` (subtração) - subtrai o segundo valor do primeiro e obtém um resultado."
   ],
   "metadata": {
    "collapsed": false
   }
  },
  {
   "cell_type": "code",
   "outputs": [
    {
     "name": "stdout",
     "output_type": "stream",
     "text": [
      "-10\r\n",
      "0.8899999999999997\r\n",
      "-0.76576567\r\n",
      "25\r\n",
      "y\r\n"
     ]
    }
   ],
   "source": [
    "// Operador - (subtração)\n",
    "println(10 - 20) // Subtraindo inteiros. Resultado: -10\n",
    "println(5 - 4.11) // Subtraindo inteiro com Double. Resultado: -0,89\n",
    "println(4.23423423442f - 5L) // Subtraindo float com Long. Resultado: -0.76\n",
    "println('z' - 'a')  // Subtraindo um código de um caractere de outro. Resultado: 25\n",
    "println('z' - 1)  // Subtraindo uma unidade do caractere 'z' (andando 1 posição para trás). Resultado: 'y'"
   ],
   "metadata": {
    "collapsed": false,
    "ExecuteTime": {
     "end_time": "2024-03-04T07:46:55.991947100Z",
     "start_time": "2024-03-04T07:46:55.886957Z"
    }
   },
   "execution_count": 276
  },
  {
   "cell_type": "markdown",
   "source": [
    "Ao contrário do operador de adição (`+`), o operador de subtração não pode ser utilizado entre strings."
   ],
   "metadata": {
    "collapsed": false
   }
  },
  {
   "cell_type": "markdown",
   "source": [
    "`*` (multiplicação) - multiplica dois valores e obtém o resultado."
   ],
   "metadata": {
    "collapsed": false
   }
  },
  {
   "cell_type": "code",
   "outputs": [
    {
     "name": "stdout",
     "output_type": "stream",
     "text": [
      "25\r\n",
      "GustavoGustavoGustavo\r\n"
     ]
    }
   ],
   "source": [
    "println(5 * 5) // Multiplicando dois inteiros. Resultado: 25\n",
    "// Em Kotlin, não é possível fazer multiplicação de String com Int ~ println(\"abc\" * 5)\n",
    "// Mas existe a função repeat, que tem um comportamento semelhante a uma multiplicação\n",
    "val string = \"Gustavo\"\n",
    "val multiplicada = string.repeat(3) // Resultado: \"GustavoGustavoGustavo\"\n",
    "println(multiplicada)"
   ],
   "metadata": {
    "collapsed": false,
    "ExecuteTime": {
     "end_time": "2024-03-04T07:46:56.095669800Z",
     "start_time": "2024-03-04T07:46:55.999954900Z"
    }
   },
   "execution_count": 277
  },
  {
   "cell_type": "markdown",
   "source": [
    "`/` (divisão) - divide o primeiro valor pelo segundo e obtém o resultado."
   ],
   "metadata": {
    "collapsed": false
   }
  },
  {
   "cell_type": "code",
   "outputs": [
    {
     "name": "stdout",
     "output_type": "stream",
     "text": [
      "5\r\n",
      "3.3333333333333335\r\n",
      "3.75\r\n"
     ]
    }
   ],
   "source": [
    "println(10 / 2) // Dividindo dois inteiros. Resultado: 5\n",
    "println(10.0 / 3.0) // Dividindo Double. Resultado: 3.3333333333333335\n",
    "println(15 / 4.0) // Dividindo inteiro com Double. Resultado: 3.75"
   ],
   "metadata": {
    "collapsed": false,
    "ExecuteTime": {
     "end_time": "2024-03-04T07:46:56.157665500Z",
     "start_time": "2024-03-04T07:46:56.096665900Z"
    }
   },
   "execution_count": 278
  },
  {
   "cell_type": "markdown",
   "source": [
    "`%` (módulo) - retorna o resto da divisão do primeiro valor pelo segundo."
   ],
   "metadata": {
    "collapsed": false
   }
  },
  {
   "cell_type": "code",
   "outputs": [
    {
     "name": "stdout",
     "output_type": "stream",
     "text": [
      "1\r\n",
      "3.5\r\n",
      "6\r\n"
     ]
    }
   ],
   "source": [
    "println(10 % 3) // Obtendo o resto da divisão de dois inteiros. Resultado: 1\n",
    "println(15.5 % 4) // Obtendo o resto da divisão de Double com inteiro. Resultado: 3.5\n",
    "println(20L % 7L) // Obtendo o resto da divisão de dois Longs. Resultado: 6"
   ],
   "metadata": {
    "collapsed": false,
    "ExecuteTime": {
     "end_time": "2024-03-04T07:46:56.254667900Z",
     "start_time": "2024-03-04T07:46:56.197670900Z"
    }
   },
   "execution_count": 279
  },
  {
   "cell_type": "markdown",
   "source": [
    "### 4.2. Operadores de comparação\n",
    "Os operadores de comparação retornam um valor booleano, ou seja, verdadeiro (`true`) se a condição estabelecida for verdadeira ou falso (`false`) caso contrário. Esses operadores são fundamentais para criar lógica condicional, permitindo tomar decisões com base nas relações entre os valores. A seguir, há explicações e exemplos de uso dos operadores de comparação na linguagem Kotlin."
   ],
   "metadata": {
    "collapsed": false
   }
  },
  {
   "cell_type": "markdown",
   "source": [
    "`==` (igual a) - verifica se dois valores são iguais."
   ],
   "metadata": {
    "collapsed": false
   }
  },
  {
   "cell_type": "code",
   "outputs": [
    {
     "name": "stdout",
     "output_type": "stream",
     "text": [
      "true\r\n"
     ]
    }
   ],
   "source": [
    "val A = 5\n",
    "val B = 5\n",
    "println(A == B) // Verifica se A é igual a B. Resultado: true"
   ],
   "metadata": {
    "collapsed": false,
    "ExecuteTime": {
     "end_time": "2024-03-04T07:46:56.298671200Z",
     "start_time": "2024-03-04T07:46:56.254667900Z"
    }
   },
   "execution_count": 280
  },
  {
   "cell_type": "markdown",
   "source": [
    "`!=` (diferente de) - verifica se dois valores são diferentes."
   ],
   "metadata": {
    "collapsed": false
   }
  },
  {
   "cell_type": "code",
   "outputs": [
    {
     "name": "stdout",
     "output_type": "stream",
     "text": [
      "true\r\n"
     ]
    }
   ],
   "source": [
    "val A = 10\n",
    "val B = 7\n",
    "println(A != B) // Verifica se A é diferente de B. Resultado: true"
   ],
   "metadata": {
    "collapsed": false,
    "ExecuteTime": {
     "end_time": "2024-03-04T07:46:56.417719100Z",
     "start_time": "2024-03-04T07:46:56.376735100Z"
    }
   },
   "execution_count": 281
  },
  {
   "cell_type": "markdown",
   "source": [
    "`<` (menor que) - verifica se o primeiro valor é menor que o segundo."
   ],
   "metadata": {
    "collapsed": false
   }
  },
  {
   "cell_type": "code",
   "outputs": [
    {
     "name": "stdout",
     "output_type": "stream",
     "text": [
      "true\r\n"
     ]
    }
   ],
   "source": [
    "val A = 3\n",
    "val B = 7\n",
    "println(A < B) // Verifica se A é menor que B. Resultado: true"
   ],
   "metadata": {
    "collapsed": false,
    "ExecuteTime": {
     "end_time": "2024-03-04T07:46:56.471721100Z",
     "start_time": "2024-03-04T07:46:56.429726400Z"
    }
   },
   "execution_count": 282
  },
  {
   "cell_type": "markdown",
   "source": [
    "`>` (maior que) - verifica se o primeiro valor é maior que o segundo."
   ],
   "metadata": {
    "collapsed": false
   }
  },
  {
   "cell_type": "code",
   "outputs": [
    {
     "name": "stdout",
     "output_type": "stream",
     "text": [
      "true\r\n"
     ]
    }
   ],
   "source": [
    "val A = 8\n",
    "val B = 5\n",
    "println(A > B) // Verifica se A é maior que B. Resultado: true"
   ],
   "metadata": {
    "collapsed": false,
    "ExecuteTime": {
     "end_time": "2024-03-04T07:46:56.622715800Z",
     "start_time": "2024-03-04T07:46:56.583715100Z"
    }
   },
   "execution_count": 283
  },
  {
   "cell_type": "markdown",
   "source": [
    "`<=` (menor ou igual a) - verifica se o primeiro valor é menor ou igual ao segundo."
   ],
   "metadata": {
    "collapsed": false
   }
  },
  {
   "cell_type": "code",
   "outputs": [
    {
     "name": "stdout",
     "output_type": "stream",
     "text": [
      "true\r\n"
     ]
    }
   ],
   "source": [
    "val A = 5\n",
    "val B = 5\n",
    "println(A <= B) // Verifica se A é menor ou igual a B. Resultado: true"
   ],
   "metadata": {
    "collapsed": false,
    "ExecuteTime": {
     "end_time": "2024-03-04T07:46:56.744311900Z",
     "start_time": "2024-03-04T07:46:56.691310700Z"
    }
   },
   "execution_count": 284
  },
  {
   "cell_type": "markdown",
   "source": [
    "`>=` (maior ou igual a) - verifica se o primeiro valor é maior ou igual ao segundo."
   ],
   "metadata": {
    "collapsed": false
   }
  },
  {
   "cell_type": "code",
   "outputs": [
    {
     "name": "stdout",
     "output_type": "stream",
     "text": [
      "true\r\n"
     ]
    }
   ],
   "source": [
    "val A = 8\n",
    "val B = 5\n",
    "println(A >= B) // Verifica se A é maior ou igual a B. Resultado: true"
   ],
   "metadata": {
    "collapsed": false,
    "ExecuteTime": {
     "end_time": "2024-03-04T07:46:56.829311700Z",
     "start_time": "2024-03-04T07:46:56.779333400Z"
    }
   },
   "execution_count": 285
  },
  {
   "cell_type": "markdown",
   "source": [
    "`!` (negação) - também chamado de *not* (em inglês), tal operador nega um valor booleano."
   ],
   "metadata": {
    "collapsed": false
   }
  },
  {
   "cell_type": "code",
   "outputs": [
    {
     "name": "stdout",
     "output_type": "stream",
     "text": [
      "false\r\n"
     ]
    }
   ],
   "source": [
    "val estouComSono = true\n",
    "\n",
    "println(!estouComSono)  // Resultado: false"
   ],
   "metadata": {
    "collapsed": false,
    "ExecuteTime": {
     "end_time": "2024-03-04T07:46:56.957310200Z",
     "start_time": "2024-03-04T07:46:56.918308Z"
    }
   },
   "execution_count": 286
  },
  {
   "cell_type": "markdown",
   "source": [
    "`&&` (e) - também chamado de *and* (em inglês), uma operação usando `&&` só retorna `true` caso ambos os lados da expressão retornem `true` também."
   ],
   "metadata": {
    "collapsed": false
   }
  },
  {
   "cell_type": "code",
   "outputs": [
    {
     "name": "stdout",
     "output_type": "stream",
     "text": [
      "true\r\n",
      "false\r\n",
      "true\r\n"
     ]
    }
   ],
   "source": [
    "var estouComFome = true\n",
    "var estouAlegre = true\n",
    "\n",
    "// estou com fome (true) E estou alegre (true)\n",
    "println(estouComFome && estouAlegre)  // Resultado: true\n",
    "estouComFome = false\n",
    "\n",
    "// estou com fome (false) E estou alegre (true)\n",
    "println(estouComFome && estouAlegre)  // Resultado: false\n",
    "// NÃO estou com fome (true) E estou alegre (true)\n",
    "println(!estouComFome && estouAlegre)  // !false é true. Logo true && true -> true\n"
   ],
   "metadata": {
    "collapsed": false,
    "ExecuteTime": {
     "end_time": "2024-03-04T07:46:57.113316300Z",
     "start_time": "2024-03-04T07:46:57.043312200Z"
    }
   },
   "execution_count": 287
  },
  {
   "cell_type": "markdown",
   "source": [
    "`||` (ou) - também chamado de *or* (em inglês), uma operação usando `||` retorna `true` quando pelo menos um dos lados da expressão retorna `true`."
   ],
   "metadata": {
    "collapsed": false
   }
  },
  {
   "cell_type": "code",
   "outputs": [
    {
     "name": "stdout",
     "output_type": "stream",
     "text": [
      "true\r\n",
      "true\r\n"
     ]
    }
   ],
   "source": [
    "var estaChovendo = true\n",
    "var estaFazendoSol = false\n",
    "\n",
    "// está chovendo (true) OU está fazendo sol (false)\n",
    "println(estaChovendo || estaFazendoSol)  // Resultado: true\n",
    "estaFazendoSol = true\n",
    "// está chovendo (true) OU está fazendo sol (true)\n",
    "println(estaChovendo || estaFazendoSol)  // Resultado: true"
   ],
   "metadata": {
    "collapsed": false,
    "ExecuteTime": {
     "end_time": "2024-03-04T07:46:57.179310100Z",
     "start_time": "2024-03-04T07:46:57.113316300Z"
    }
   },
   "execution_count": 288
  },
  {
   "cell_type": "markdown",
   "source": [
    "`++` (incremento) - incrementa uma unidade no valor onde está sendo chamado."
   ],
   "metadata": {
    "collapsed": false
   }
  },
  {
   "cell_type": "code",
   "outputs": [
    {
     "name": "stdout",
     "output_type": "stream",
     "text": [
      "6\r\n",
      "10\r\n"
     ]
    }
   ],
   "source": [
    "var a = 5\n",
    "println(++a) // Incrementando o valor antes da impressão. Resultado: 6\n",
    "var b = 10\n",
    "println(b++) // Imprime o valor e depois incrementa. Resultado: 10 (mas o valor de 'B' passa a ser 11)"
   ],
   "metadata": {
    "collapsed": false,
    "ExecuteTime": {
     "end_time": "2024-03-04T07:46:57.262392200Z",
     "start_time": "2024-03-04T07:46:57.212391900Z"
    }
   },
   "execution_count": 289
  },
  {
   "cell_type": "markdown",
   "source": [
    "`--` (decremento) - decrementa uma unidade do valor onde está sendo chamado."
   ],
   "metadata": {
    "collapsed": false
   }
  },
  {
   "cell_type": "code",
   "outputs": [
    {
     "name": "stdout",
     "output_type": "stream",
     "text": [
      "7\r\n",
      "12\r\n"
     ]
    }
   ],
   "source": [
    "var a = 8\n",
    "println(--a) // Decrementando o valor antes da impressão. Resultado: 7\n",
    "var b = 12\n",
    "println(b--) // Imprime o valor e depois decrementa. Resultado: 12 (mas o valor de 'B' passa a ser 11) "
   ],
   "metadata": {
    "collapsed": false,
    "ExecuteTime": {
     "end_time": "2024-03-04T07:46:57.320320600Z",
     "start_time": "2024-03-04T07:46:57.267395300Z"
    }
   },
   "execution_count": 290
  },
  {
   "cell_type": "markdown",
   "source": [
    "### 4.3. Operadores de atribuição aumentada (augmented assignment)\n",
    "Assim como em outras linguagens, Kotlin também permite usar operadores de atribuição aumentada. Tais operações consistem de uma atribuição seguida de outra operação. Por exemplo, `a += b` é o mesmo que `a = a + b`. Para entender melhor o uso desse tipo de operador, veja o exemplo seguinte."
   ],
   "metadata": {
    "collapsed": false
   }
  },
  {
   "cell_type": "code",
   "outputs": [
    {
     "name": "stdout",
     "output_type": "stream",
     "text": [
      "15\r\n",
      "14\r\n",
      "70\r\n",
      "14\r\n",
      "2\r\n"
     ]
    }
   ],
   "source": [
    "var a = 10\n",
    "a += 5  // a = 10 + 5\n",
    "println(a)  // 15\n",
    "\n",
    "a -= 1  // a = 15 - 1\n",
    "println(a)  // 14\n",
    "\n",
    "a *= 5  // a = 14 * 5\n",
    "println(a)  // 70\n",
    "\n",
    "a /= 5  // a = 70 / 5\n",
    "println(a)  // 14\n",
    "\n",
    "a %= 4  // a = 14 % 4\n",
    "println(a)  // 2"
   ],
   "metadata": {
    "collapsed": false,
    "ExecuteTime": {
     "end_time": "2024-03-04T07:46:57.530315400Z",
     "start_time": "2024-03-04T07:46:57.392325900Z"
    }
   },
   "execution_count": 291
  },
  {
   "cell_type": "markdown",
   "source": [
    "## 5. Controle de fluxo"
   ],
   "metadata": {
    "collapsed": false
   }
  },
  {
   "cell_type": "markdown",
   "source": [
    "### 5.1. Expressões condicionais\n",
    "A linguagem de programação Kotlin fornece `if`, `else` e `when` para realizar a verificação de expressões condicionais.\n",
    "Conforme a documentação da linguagem, se você precisar escolher entre usar `if` ou `when`, recomenda-se usar o `when`, já que tal escolha leva a um código mais robusto e seguro."
   ],
   "metadata": {
    "collapsed": false
   }
  },
  {
   "cell_type": "markdown",
   "source": [
    "#### 5.1.1. if-else\n",
    "O uso da palavra-chave `if` na linguagem Kotlin segue o mesmo padrão observado na linguagem Java."
   ],
   "metadata": {
    "collapsed": false
   }
  },
  {
   "cell_type": "code",
   "outputs": [
    {
     "name": "stdout",
     "output_type": "stream",
     "text": [
      "1\r\n"
     ]
    }
   ],
   "source": [
    "var x: Int\n",
    "val teste = true\n",
    "\n",
    "\n",
    "if (teste) {\n",
    "   x = 1\n",
    "} else {\n",
    "   x = 2\n",
    "}\n",
    "\n",
    "\n",
    "println(x)\n",
    "// 1"
   ],
   "metadata": {
    "collapsed": false,
    "ExecuteTime": {
     "end_time": "2024-03-05T19:36:12.942895400Z",
     "start_time": "2024-03-05T19:36:12.649265700Z"
    }
   },
   "execution_count": 1
  },
  {
   "cell_type": "markdown",
   "source": [
    "No Kotlin, há também uma espécie de substituto para o operador ternário visto em outras linguagens (`condicao ? casoVerdadeiro: casoFalso`). Esse “substituto” usa `if` e `else`. Para entender como ele funciona, observe o código abaixo."
   ],
   "metadata": {
    "collapsed": false
   }
  },
  {
   "cell_type": "code",
   "outputs": [
    {
     "name": "stdout",
     "output_type": "stream",
     "text": [
      "Valor de b: 2\r\n"
     ]
    }
   ],
   "source": [
    "val a = 1\n",
    "val b = 2\n",
    "\n",
    "println(if (a > b) \"Valor de a: $a\" else \"Valor de b: $b\") // Retorna um valor: 2"
   ],
   "metadata": {
    "collapsed": false,
    "ExecuteTime": {
     "end_time": "2024-03-04T07:46:57.636334700Z",
     "start_time": "2024-03-04T07:46:57.586328400Z"
    }
   },
   "execution_count": 293
  },
  {
   "cell_type": "markdown",
   "source": [
    "Há ainda outras maneiras de se usar as expressões condicionais. No trecho de código abaixo, há alguns exemplos de usos do `if`, do `else` e do `else if`."
   ],
   "metadata": {
    "collapsed": false
   }
  },
  {
   "cell_type": "code",
   "outputs": [
    {
     "name": "stdout",
     "output_type": "stream",
     "text": [
      "O maior valor é 3\r\n",
      "A frase é grande\r\n"
     ]
    }
   ],
   "source": [
    "val a = 2\n",
    "val b = 3\n",
    "\n",
    "var maiorValor = a\n",
    "if (a < b) maiorValor = b\n",
    "\n",
    "// Utilizando if-else\n",
    "if (a > b) {\n",
    "   maiorValor = a\n",
    "} else {\n",
    "   maiorValor = b\n",
    "}\n",
    "\n",
    "// Utilizando uma expressão if (semelhante ao uso do operador ternário)\n",
    "maiorValor = if (a > b) a else b\n",
    "\n",
    "// Você também pode utilizar `else if` em expressões\n",
    "val tamanhoDaFrase = \"Olá, Kotlin!\".length\n",
    "val tipoDaFrase = if (tamanhoDaFrase <= 5) \"pequena\" else if (tamanhoDaFrase <= 10) \"média\" else \"grande\"\n",
    "\n",
    "println(\"O maior valor é $maiorValor\")\n",
    "println(\"A frase é $tipoDaFrase\")  // pequena, média ou grande"
   ],
   "metadata": {
    "collapsed": false,
    "ExecuteTime": {
     "end_time": "2024-03-04T07:46:57.737325700Z",
     "start_time": "2024-03-04T07:46:57.637328Z"
    }
   },
   "execution_count": 294
  },
  {
   "cell_type": "markdown",
   "source": [
    "Podemos usar blocos `if-else` inclusive para atribuir algum valor a uma variável. No exemplo a seguir, a última expressão é a que representa o valor do bloco, ou seja, o valor a ser inserido na variável."
   ],
   "metadata": {
    "collapsed": false
   }
  },
  {
   "cell_type": "code",
   "outputs": [
    {
     "name": "stdout",
     "output_type": "stream",
     "text": [
      "'a' é maior do que 'b'\r\n",
      "O maior valor é 15\r\n"
     ]
    }
   ],
   "source": [
    "val a: Int = 15\n",
    "val b: Int = 10\n",
    "\n",
    "\n",
    "val maiorValor = if (a > b) {\n",
    "   println(\"'a' é maior do que 'b'\")\n",
    "   a // última expressão do bloco if\n",
    "} else {\n",
    "   println(\"'b' é maior ou igual a 'a'\")\n",
    "   b // última expressão do bloco else\n",
    "}\n",
    "\n",
    "println(\"O maior valor é $maiorValor\")"
   ],
   "metadata": {
    "collapsed": false,
    "ExecuteTime": {
     "end_time": "2024-03-04T07:46:57.821330200Z",
     "start_time": "2024-03-04T07:46:57.752328200Z"
    }
   },
   "execution_count": 295
  },
  {
   "cell_type": "markdown",
   "source": [
    " É importante salientar que, caso o `if` esteja sendo usado para retornar seu valor ou atribuí-lo a uma variável, o `else` é obrigatório. Portanto, no caso do código acima, o `else` **deve** estar presente."
   ],
   "metadata": {
    "collapsed": false
   }
  },
  {
   "cell_type": "markdown",
   "source": [
    "#### 5.1.2. when"
   ],
   "metadata": {
    "collapsed": false
   }
  },
  {
   "cell_type": "markdown",
   "source": [
    "Além do `if-else`, a linguagem Kotlin também fornece da estrutura condicional `when` para o mapeamento de cadeias de condições. O `when` pode ser pensado como a substituto de um `switch-case` do Java com uma sintaxe mais simplificada."
   ],
   "metadata": {
    "collapsed": false
   }
  },
  {
   "cell_type": "code",
   "outputs": [
    {
     "name": "stdout",
     "output_type": "stream",
     "text": [
      "x é igual a 2\r\n"
     ]
    }
   ],
   "source": [
    "val x = 2\n",
    "\n",
    "when (x) {\n",
    "   1 -> println(\"x é igual a 1\")\n",
    "   2 -> println(\"x é igual a 2\")\n",
    "   else -> {\n",
    "       println(\"x não é igual a nem 1 e nem a 2\")\n",
    "   }\n",
    "}\n"
   ],
   "metadata": {
    "collapsed": false,
    "ExecuteTime": {
     "end_time": "2024-03-04T07:46:57.880326400Z",
     "start_time": "2024-03-04T07:46:57.823323700Z"
    }
   },
   "execution_count": 296
  },
  {
   "cell_type": "markdown",
   "source": [
    "O `when` realiza uma operação de correspondência (`==`) sequencialmente em todas as suas condições até achar alguma que seja satisfeita.\n",
    "\n",
    "As condições de um bloco `when` são tão flexíveis quanto as de um bloco if, podendo fazer match (bater com uma determinada condição) por intervalos, arrays, tipos de classe e até expressões."
   ],
   "metadata": {
    "collapsed": false
   }
  },
  {
   "cell_type": "code",
   "outputs": [
    {
     "name": "stdout",
     "output_type": "stream",
     "text": [
      "Eu conheço esse número!\r\n"
     ]
    }
   ],
   "source": [
    "val numeros = listOf(1, 2, 3)\n",
    "val x = 1  // mude este valor para testar as diversas condições do when\n",
    "when (x) {\n",
    "    //Comparação simples\n",
    "    4 -> print(\"$x == 4\")\n",
    "    \n",
    "    //Comparação em lista\n",
    "    in numeros -> println(\"Eu conheço esse número!\")\n",
    "    \n",
    "    //Comparação em intervalos\n",
    "    in 7 .. 14 -> println(\"$x Está entre 7 e 14!\")\n",
    "    !in 15 .. 20 -> println(\"$x Não está entre 15 e 20!\")\n",
    "    \n",
    "    //Comparação por tipo\n",
    "    is Int -> println(\"$x é inteiro\")\n",
    "    \n",
    "    else -> {\n",
    "       println(\"$x não se enquadra em nenhuma condição...\")\n",
    "    }\n",
    "}"
   ],
   "metadata": {
    "collapsed": false,
    "ExecuteTime": {
     "end_time": "2024-03-04T07:46:58.109708600Z",
     "start_time": "2024-03-04T07:46:57.984330900Z"
    }
   },
   "execution_count": 297
  },
  {
   "cell_type": "markdown",
   "source": [
    "É possível também combinar condições separando-as com vírgulas (isto é, um comportamento comum a mais de um caso)."
   ],
   "metadata": {
    "collapsed": false
   }
  },
  {
   "cell_type": "code",
   "outputs": [
    {
     "name": "stdout",
     "output_type": "stream",
     "text": [
      "Terrível\r\n"
     ]
    }
   ],
   "source": [
    "val pizza = \"Abacaxi\"\n",
    "\n",
    "when (pizza) {\n",
    "    \"Abacaxi\", \"Barbecue\" -> println(\"Terrível\")\n",
    "    else -> println(\"Tudo bem\")\n",
    "}"
   ],
   "metadata": {
    "collapsed": false,
    "ExecuteTime": {
     "end_time": "2024-03-04T07:46:58.153715200Z",
     "start_time": "2024-03-04T07:46:58.110707900Z"
    }
   },
   "execution_count": 298
  },
  {
   "cell_type": "markdown",
   "source": [
    "Um bloco `when` pode ser usado tanto em uma declaração (bloco de código explícito) quanto em uma expressão (atribuído a uma variável). Quando o `when` é usado como uma declaração, o valor de cada uma de suas condições é desprezado, porém, quando é usado como uma expressão, o valor da primeira condição correspondente será atribuído à variável."
   ],
   "metadata": {
    "collapsed": false
   }
  },
  {
   "cell_type": "code",
   "outputs": [
    {
     "name": "stdout",
     "output_type": "stream",
     "text": [
      "Como vai?\r\n"
     ]
    }
   ],
   "source": [
    "val palavra = \"Português\"\n",
    "\n",
    "val saudacao = when(palavra) {\n",
    "   \"Inglês\" -> \"How are you?\"\n",
    "   \"Português\" -> \"Como vai?\"\n",
    "   \"Alemão\" -> \"Wie geht es dir?\"\n",
    "   else -> \"Não sei essa língua ainda :(\"\n",
    "}\n",
    "println(saudacao)"
   ],
   "metadata": {
    "collapsed": false,
    "ExecuteTime": {
     "end_time": "2024-03-04T07:46:58.201711200Z",
     "start_time": "2024-03-04T07:46:58.153715200Z"
    }
   },
   "execution_count": 299
  },
  {
   "cell_type": "markdown",
   "source": [
    "Há algumas condições em que uma condição `else` é obrigatória em um bloco `when`:\n",
    "- quando o seu argumento é do tipo `Boolean`, `Enum` ou `Sealed` ou seus tipos nulificáveis (`Tipo?`, isto é, pode ser nulo);\n",
    "- suas condições não cobrem todos os valores possíveis para o seu argumento;"
   ],
   "metadata": {
    "collapsed": false
   }
  },
  {
   "cell_type": "code",
   "outputs": [
    {
     "name": "stdout",
     "output_type": "stream",
     "text": [
      "Recurso não encontrado\r\n",
      "Código desconhecido\r\n"
     ]
    }
   ],
   "source": [
    "enum class HTTPStatus(val code: Int) {\n",
    "   OK(200),\n",
    "   NOT_FOUND(404),\n",
    "   INTERNAL_SERVER_ERROR(500)\n",
    "}\n",
    "\n",
    "val code: Int = 404\n",
    "\n",
    "when (code) {\n",
    "   HTTPStatus.OK.code ->\n",
    "       println(\"Resposta retornou com sucesso\")\n",
    "   HTTPStatus.NOT_FOUND.code ->\n",
    "       println(\"Recurso não encontrado\")\n",
    "   HTTPStatus.INTERNAL_SERVER_ERROR.code ->\n",
    "       println(\"Erro interno no servidor\")\n",
    "} // Não necessário pois cobre todos os valores possíveis\n",
    "\n",
    "when (code) {\n",
    "  HTTPStatus.OK.code ->\n",
    "     println(\"Resposta retornou com sucesso\")\n",
    "  else ->\n",
    "     println(\"Código desconhecido\")\n",
    "} // Necessário pois não cobre todos os valores possíveis"
   ],
   "metadata": {
    "collapsed": false,
    "ExecuteTime": {
     "end_time": "2024-03-04T07:46:58.325710400Z",
     "start_time": "2024-03-04T07:46:58.210717200Z"
    }
   },
   "execution_count": 300
  },
  {
   "cell_type": "markdown",
   "source": [
    "Uma utilização sensata de um bloco `when` seria para evitar criar uma longa cadeia de `else-if`s"
   ],
   "metadata": {
    "collapsed": false
   }
  },
  {
   "cell_type": "code",
   "outputs": [
    {
     "name": "stdout",
     "output_type": "stream",
     "text": [
      "O dia correspondente ao número 3 é Terça-feira\r\n"
     ]
    }
   ],
   "source": [
    "fun getDayOfWeek(dayNumber: Int): String {\n",
    "    return when (dayNumber) {\n",
    "       1 -> \"Domingo\"\n",
    "       2 -> \"Segunda-feira\"\n",
    "       3 -> \"Terça-feira\"\n",
    "       4 -> \"Quarta-feira\"\n",
    "       5 -> \"Quinta-feira\"\n",
    "       6 -> \"Sexta-feira\"\n",
    "       7 -> \"Sábado\"\n",
    "       else -> \"Número de dia inválido\"\n",
    "   }\n",
    "}\n",
    "\n",
    "val dayNumber = 3 // Supondo que tenhamos o número do dia\n",
    "val dayOfWeek = getDayOfWeek(dayNumber)\n",
    "println(\"O dia correspondente ao número $dayNumber é $dayOfWeek\")"
   ],
   "metadata": {
    "collapsed": false,
    "ExecuteTime": {
     "end_time": "2024-03-04T07:46:58.408725300Z",
     "start_time": "2024-03-04T07:46:58.354716400Z"
    }
   },
   "execution_count": 301
  },
  {
   "cell_type": "markdown",
   "source": [
    "### 5.2. Intervalos (ranges)"
   ],
   "metadata": {
    "collapsed": false
   }
  },
  {
   "cell_type": "markdown",
   "source": [
    "Antes de iniciar os estudos sobre loop, é importante saber como construir intervalos (ranges em inglês). A seguir, há alguns exemplos simples que utilizam um loop `for` e algumas maneiras de se criar diferentes intervalos. O jeito mais comum de criar um intervalo em Kotlin é usando o operador `..` . Por exemplo, `1..4` é equivalente a `1, 2, 3, 4` ."
   ],
   "metadata": {
    "collapsed": false
   }
  },
  {
   "cell_type": "code",
   "outputs": [
    {
     "name": "stdout",
     "output_type": "stream",
     "text": [
      "1 2 3 4 "
     ]
    }
   ],
   "source": [
    "for (i in 1..4) {\n",
    "   print(\"$i \")  // 1 2 3 4\n",
    "}"
   ],
   "metadata": {
    "collapsed": false,
    "ExecuteTime": {
     "end_time": "2024-03-04T07:46:58.531729300Z",
     "start_time": "2024-03-04T07:46:58.493726900Z"
    }
   },
   "execution_count": 302
  },
  {
   "cell_type": "markdown",
   "source": [
    "Para declarar um intervalo que não inclui o último valor (o valor do final), use o operador `..<` . Por exemplo, `1..<4` é equivalente a `1, 2, 3` ."
   ],
   "metadata": {
    "collapsed": false
   }
  },
  {
   "cell_type": "code",
   "outputs": [
    {
     "name": "stdout",
     "output_type": "stream",
     "text": [
      "1 2 3 "
     ]
    }
   ],
   "source": [
    "for (i in 1..<4) {\n",
    "   print(\"$i \")  // 1 2 3\n",
    "}"
   ],
   "metadata": {
    "collapsed": false,
    "ExecuteTime": {
     "end_time": "2024-03-04T07:46:58.618728200Z",
     "start_time": "2024-03-04T07:46:58.579730800Z"
    }
   },
   "execution_count": 303
  },
  {
   "cell_type": "markdown",
   "source": [
    "Para declarar um intervalo em ordem reversa, use `downTo` . Por exemplo, `4 downTo 1` é equivalente a `4, 3, 2, 1` ."
   ],
   "metadata": {
    "collapsed": false
   }
  },
  {
   "cell_type": "code",
   "outputs": [
    {
     "name": "stdout",
     "output_type": "stream",
     "text": [
      "4 3 2 1 "
     ]
    }
   ],
   "source": [
    "for (i in 4 downTo 1) {\n",
    "   print(\"$i \")  // 4 3 2 1\n",
    "}"
   ],
   "metadata": {
    "collapsed": false,
    "ExecuteTime": {
     "end_time": "2024-03-04T07:46:58.721729600Z",
     "start_time": "2024-03-04T07:46:58.672728500Z"
    }
   },
   "execution_count": 304
  },
  {
   "cell_type": "markdown",
   "source": [
    "Para declarar um intervalo que não possui um passo (step) de 1 (isto é, incrementar a cada 1), use `step` e o incremento desejado (de quanto em quanto você quer que seja o incremento). Por exemplo, `1..5 step 2` é equivalente a `1, 3, 5` ."
   ],
   "metadata": {
    "collapsed": false
   }
  },
  {
   "cell_type": "code",
   "outputs": [
    {
     "name": "stdout",
     "output_type": "stream",
     "text": [
      "1 3 5 "
     ]
    }
   ],
   "source": [
    "for (i in 1..5 step 2) {\n",
    "   print(\"$i \")  // 1 3 5\n",
    "}"
   ],
   "metadata": {
    "collapsed": false,
    "ExecuteTime": {
     "end_time": "2024-03-04T07:46:58.840728500Z",
     "start_time": "2024-03-04T07:46:58.787726700Z"
    }
   },
   "execution_count": 305
  },
  {
   "cell_type": "markdown",
   "source": [
    "Podemos ainda utilizar `until` para criar um intervalo que não inclui o último número. Por exemplo, o intervalo `1 until 5` equivale a `1, 2, 3, 4`."
   ],
   "metadata": {
    "collapsed": false
   }
  },
  {
   "cell_type": "code",
   "outputs": [
    {
     "name": "stdout",
     "output_type": "stream",
     "text": [
      "1\r\n",
      "2\r\n"
     ]
    }
   ],
   "source": [
    "for (i in 1 until 3) {\n",
    "   println(i)\n",
    "}"
   ],
   "metadata": {
    "collapsed": false,
    "ExecuteTime": {
     "end_time": "2024-03-05T20:12:57.580161400Z",
     "start_time": "2024-03-05T20:12:57.422287400Z"
    }
   },
   "execution_count": 3
  },
  {
   "cell_type": "markdown",
   "source": [
    "Também é possível aplicar a mesma lógica de intervalos vista acima para caracteres, ou seja, `Char`:\n",
    "- `a..d` é equivalente a `'a', 'b', 'c', 'd'`;\n",
    "- `'z' downTo 's' step 2` é equivalente a `'z', 'x', 'v', 't'`."
   ],
   "metadata": {
    "collapsed": false
   }
  },
  {
   "cell_type": "code",
   "outputs": [
    {
     "name": "stdout",
     "output_type": "stream",
     "text": [
      "a b c d \r\n",
      "z x v t "
     ]
    }
   ],
   "source": [
    "for (letra in 'a' .. 'd') {\n",
    "    print(\"$letra \")\n",
    "}\n",
    "println()\n",
    "\n",
    "for (letra in 'z' downTo 's' step 2) {\n",
    "    print(\"$letra \")\n",
    "}"
   ],
   "metadata": {
    "collapsed": false,
    "ExecuteTime": {
     "end_time": "2024-03-05T20:12:12.587794900Z",
     "start_time": "2024-03-05T20:12:11.732692900Z"
    }
   },
   "execution_count": 2
  },
  {
   "cell_type": "markdown",
   "source": [
    "### 5.3. Laços de repetição (loops)"
   ],
   "metadata": {
    "collapsed": false
   }
  },
  {
   "cell_type": "markdown",
   "source": [
    "As duas estruturas de loop mais comuns na programação são o `for` e o `while`. Use o `for` para iterar sobre um intervalo de valores e realizar uma ação. Use o `while` para continuar com uma ação até que uma determinada condição seja satisfeita."
   ],
   "metadata": {
    "collapsed": false
   }
  },
  {
   "cell_type": "markdown",
   "source": [
    "#### 5.3.1. for\n",
    "O `for` pode ser utilizado para iterar sobre intervalos como já foi visto nos exemplos acima. Na verdade, um loop `for` itera sobre qualquer coisa que fornece um iterador. Ademais, coleções também podem ser percorridas por loops:"
   ],
   "metadata": {
    "collapsed": false
   }
  },
  {
   "cell_type": "code",
   "outputs": [
    {
     "name": "stdout",
     "output_type": "stream",
     "text": [
      "Que delícia, um bolo de cenoura!\r\n",
      "Que delícia, um bolo de morango!\r\n",
      "Que delícia, um bolo de chocolate!\r\n"
     ]
    }
   ],
   "source": [
    "val bolos = listOf(\"cenoura\", \"morango\", \"chocolate\")\n",
    "\n",
    "for (bolo in bolos) {\n",
    "   println(\"Que delícia, um bolo de $bolo!\")\n",
    "}\n"
   ],
   "metadata": {
    "collapsed": false,
    "ExecuteTime": {
     "end_time": "2024-03-04T07:46:58.917728Z",
     "start_time": "2024-03-04T07:46:58.862746300Z"
    }
   },
   "execution_count": 306
  },
  {
   "cell_type": "markdown",
   "source": [
    "Podemos utilizar um `for` sem `{}` quando temos apenas um comando para ser executado."
   ],
   "metadata": {
    "collapsed": false
   }
  },
  {
   "cell_type": "code",
   "outputs": [
    {
     "name": "stdout",
     "output_type": "stream",
     "text": [
      "sal trigo chocolate biscoito "
     ]
    }
   ],
   "source": [
    "val alimentosEIngredientes = listOf(\"sal\", \"trigo\", \"chocolate\", \"biscoito\")\n",
    "for (item in alimentosEIngredientes) print(\"$item \")  // sal trigo chocolate biscoito"
   ],
   "metadata": {
    "collapsed": false,
    "ExecuteTime": {
     "end_time": "2024-03-04T07:46:59.052765900Z",
     "start_time": "2024-03-04T07:46:58.982868800Z"
    }
   },
   "execution_count": 307
  },
  {
   "cell_type": "markdown",
   "source": [
    "No próximo exemplo, a variável de iteração tem seu tipo explicitamente declarado."
   ],
   "metadata": {
    "collapsed": false
   }
  },
  {
   "cell_type": "code",
   "outputs": [
    {
     "name": "stdout",
     "output_type": "stream",
     "text": [
      "Eu moro em João Pessoa\r\n",
      "Eu moro em Campina Grande\r\n",
      "Eu moro em Guarabira\r\n",
      "Eu moro em Areia\r\n"
     ]
    }
   ],
   "source": [
    "val cidades = listOf(\"João Pessoa\", \"Campina Grande\", \"Guarabira\", \"Areia\")\n",
    "\n",
    "for (cidade: String in cidades) {\n",
    "    println(\"Eu moro em $cidade\")\n",
    "}"
   ],
   "metadata": {
    "collapsed": false,
    "ExecuteTime": {
     "end_time": "2024-03-04T07:46:59.201768500Z",
     "start_time": "2024-03-04T07:46:59.117765Z"
    }
   },
   "execution_count": 308
  },
  {
   "cell_type": "markdown",
   "source": [
    "Como mencionado anteriormente, um `for` itera sobre qualquer coisa que forneça um iterador. Isso significa:\n",
    "- ter uma função membro (isto é, um método) ou uma função de extensão `iterator()` que retorne um `Iterator<>`;\n",
    "- ter uma função membro ou uma função de extensão `next()`;\n",
    "- ter uma função membro ou uma função de extensão `hasNext()` que retorna um `Boolean`."
   ],
   "metadata": {
    "collapsed": false
   }
  },
  {
   "cell_type": "markdown",
   "source": [
    "Aqui, há mais alguns exemplos que usam intervalos."
   ],
   "metadata": {
    "collapsed": false
   }
  },
  {
   "cell_type": "code",
   "outputs": [
    {
     "name": "stdout",
     "output_type": "stream",
     "text": [
      "1\r\n",
      "2\r\n",
      "3\r\n",
      "6\r\n",
      "4\r\n",
      "2\r\n",
      "0\r\n"
     ]
    }
   ],
   "source": [
    "for (i in 1..3) {\n",
    "   println(i)\n",
    "}\n",
    "\n",
    "for (i in 6 downTo 0 step 2) {\n",
    "   println(i)\n",
    "}"
   ],
   "metadata": {
    "collapsed": false,
    "ExecuteTime": {
     "end_time": "2024-03-04T07:46:59.312768500Z",
     "start_time": "2024-03-04T07:46:59.214770200Z"
    }
   },
   "execution_count": 309
  },
  {
   "cell_type": "markdown",
   "source": [
    "Caso você queira iterar sobre um array ou uma lista por meio do índice, é possível fazer o seguinte:"
   ],
   "metadata": {
    "collapsed": false
   }
  },
  {
   "cell_type": "code",
   "outputs": [
    {
     "name": "stdout",
     "output_type": "stream",
     "text": [
      "a\r\n",
      "b\r\n",
      "c\r\n"
     ]
    }
   ],
   "source": [
    "val array = arrayOf(\"a\", \"b\", \"c\")\n",
    "for (i in array.indices) {\n",
    "   println(array[i])\n",
    "}\n",
    "// a\n",
    "// b\n",
    "// c\n"
   ],
   "metadata": {
    "collapsed": false,
    "ExecuteTime": {
     "end_time": "2024-03-04T07:46:59.382826100Z",
     "start_time": "2024-03-04T07:46:59.313774900Z"
    }
   },
   "execution_count": 310
  },
  {
   "cell_type": "markdown",
   "source": [
    "É possível também iterar sobre os elementos de uma lista e obter o índice de tal elemento simultaneamente por meio da função de biblioteca `withIndex()`."
   ],
   "metadata": {
    "collapsed": false
   }
  },
  {
   "cell_type": "code",
   "outputs": [
    {
     "name": "stdout",
     "output_type": "stream",
     "text": [
      "O elemento no índice 0 é a\r\n",
      "O elemento no índice 1 é b\r\n",
      "O elemento no índice 2 é c\r\n"
     ]
    }
   ],
   "source": [
    "val array = arrayOf(\"a\", \"b\", \"c\")\n",
    "for ((indice, valor) in array.withIndex()) {\n",
    "   println(\"O elemento no índice $indice é $valor\")\n",
    "}"
   ],
   "metadata": {
    "collapsed": false,
    "ExecuteTime": {
     "end_time": "2024-03-04T07:46:59.455823800Z",
     "start_time": "2024-03-04T07:46:59.384827200Z"
    }
   },
   "execution_count": 311
  },
  {
   "cell_type": "markdown",
   "source": [
    "#### 5.3.2. while\n",
    "Os loops `while` e `do-while` executam o código presente dentro dos seus blocos continuamente enquanto uma determinada condição estiver sendo satisfeita. A diferença entre eles é o momento em que a condição é verificada:\n",
    "- O `while` verifica se a condição foi satisfeita e, caso ela tenha sido satisfeita, ele executa as instruções presentes em seu corpo, retornando posteriormente para a verificação da condição.\n",
    "- O `do-while` executa as instruções presentes em seu corpo e, em seguida, verifica a condição. Caso tal condição seja satisfeita, o loop é repetido. Dessa maneira, as instruções presentes no corpo do `do-while` executam uma vez independentemente da condição."
   ],
   "metadata": {
    "collapsed": false
   }
  },
  {
   "cell_type": "code",
   "outputs": [
    {
     "name": "stdout",
     "output_type": "stream",
     "text": [
      "Entrou no DO-WHILE!\r\n"
     ]
    }
   ],
   "source": [
    "val idade = 21\n",
    "\n",
    "do {\n",
    "   println(\"Entrou no DO-WHILE!\")  // entra aqui uma vez\n",
    "} while (idade < 21)\n",
    "\n",
    "while (idade < 21) {\n",
    "   println(\"Entrou no WHILE!\")  // nunca entra aqui\n",
    "}"
   ],
   "metadata": {
    "collapsed": false,
    "ExecuteTime": {
     "end_time": "2024-03-04T07:46:59.531824700Z",
     "start_time": "2024-03-04T07:46:59.473823700Z"
    }
   },
   "execution_count": 312
  },
  {
   "cell_type": "markdown",
   "source": [
    "Para finalizar, há um simples exemplo de uso de um loop `while` junto de um `iterator`."
   ],
   "metadata": {
    "collapsed": false
   }
  },
  {
   "cell_type": "code",
   "outputs": [
    {
     "name": "stdout",
     "output_type": "stream",
     "text": [
      "Ian disse \"Obrigado pela sua atenção!\"\r\n",
      "Lucas disse \"Obrigado pela sua atenção!\"\r\n",
      "Renato disse \"Obrigado pela sua atenção!\"\r\n",
      "Samuel disse \"Obrigado pela sua atenção!\"\r\n",
      "Yago disse \"Obrigado pela sua atenção!\"\r\n"
     ]
    }
   ],
   "source": [
    "val listaDeNomes = listOf(\"Ian\", \"Lucas\", \"Renato\", \"Samuel\", \"Yago\")\n",
    "val itListaDeNomes = listaDeNomes.iterator()\n",
    "\n",
    "while (itListaDeNomes.hasNext()) {  // enquanto tiver um elemento\n",
    "   println(\"${itListaDeNomes.next()} disse \\\"Obrigado pela sua atenção!\\\"\")  // imprima o próximo elemento\n",
    "}"
   ],
   "metadata": {
    "collapsed": false,
    "ExecuteTime": {
     "end_time": "2024-03-04T07:46:59.625865Z",
     "start_time": "2024-03-04T07:46:59.558827200Z"
    }
   },
   "execution_count": 313
  },
  {
   "cell_type": "markdown",
   "source": [
    "## 6. Prática sobre sintaxe básica\n",
    "Iremos revisar e fixar melhor alguns assuntos de sintaxe básica de Kotlin durante essa prática.\n",
    "\n",
    "O código se encontra em src\\main\\kotlin\\praticas\\2-Sintaxe-Basica.kt\n",
    "\n",
    "Nela, temos o código de um sistema simples de uma livraria, onde podemos cadastrar, excluir, editar e buscar livros. Contudo, partes do código estão incorretas ou faltando. É aí que você entra ;). Use seus conhecimentos da sintaxe básica do Kotlin para consertar o sistema."
   ],
   "metadata": {
    "collapsed": false
   }
  },
  {
   "cell_type": "markdown",
   "source": [
    "### 6.1. Etapas"
   ],
   "metadata": {
    "collapsed": false
   }
  },
  {
   "cell_type": "markdown",
   "source": [
    "1 - Implementar a função listar: o sistema vem com 4 livros cadastrados, porém, a função para exibi-los está vazia! Implemente a função, cuja assinatura já está presente na linha 53, de modo que ela imprima no console cada livro presente no repositório. Utilize o laço de repetição `for` para percorrer cada índice do repositório de livros e imprimí-los no console. Lembre-se que a sintaxe para acessar um valor de uma lista em Kotlin é `nomeDaLista[índice]`.\n",
    "\n",
    "Após implementar o método, rode o programa e chame a opção 5 para testar seu código. Caso ele esteja funcionando, 4 livros devem aparecer no console.\n",
    "\n",
    "Um desses livros, o \"Livro dos Livros\", está imprimindo seu preço incorretamente, 1000000.0 ao invés de 999999.99. Isso ocorre em decorrência do atributo preço ser do tipo float, que não tem precisão suficiente para guardar números com mais de 7 dígitos. Vamos consertar isso no próximo passo.\n",
    "\n",
    "2 - De `Float` para `Double`: para resolver nosso problema, vamos alterar o atributo preço da classe Livro de `Float` para `Double`. Também precisamos alterar a função `inputPreco()` para que ela retorne `Double` ao invés de `Float`. Por último, na função `main()`, remova os \"f\" após os números onde os livros estão sendo cadastrados.\n",
    "\n",
    "Feito isso, vamos agora cadastrar um livro. Execute o programa e escolha a primeira opção. Quando for pedido o preço, informe um valor negativo. Agora escolha a opção 5 para listar os livros. Perceba que o sistema permitiu o cadastro de um livro com preço negativo, o que nunca deveria acontecer. Vamos consertar isso!\n",
    "\n",
    "3 - Validando o preço: adicione à função `inputPreco()` uma validação para que o preço nunca possa ser negativo. Lembre-se de alterar a variável `preco` de `val` para `var` para que o valor dela possa ser alterado novamente caso o primeiro número informado seja inválido.\n",
    "\n",
    "Feito isso, vamos agora remover um livro. Escolha a segunda opção e digite \"Livro dos Livros\". Ao listar os livros novamente, podemos confirmar que ele foi deletado. Agora vamos tentar excluir um livro novamente, mas, dessa vez, quando a aplicação pedir para digitar o título, apenas pressione a tecla \"enter\". Perceba que a mensagem de exclusão foi a mesma, apesar de livro nenhum ter sido excluído.\n",
    "\n",
    "4 - Validando remoção: o método `remove`, utilizado em `excluirLivro()`, retorna `true`, caso a remoção tenha ocorrido, ou `false`, caso não. Sabendo disso, use a instrução condicional apropriada para imprimir uma mensagem personalizada caso nenhuma remoção tenha ocorrido.\n",
    "\n",
    "5 - Implementando `editarLivro()`: agora, utilizando tudo que você aprendeu, implemente a função `editarLivro()`, onde o usuário deve escolher se gostaria de alterar o título ou preço do livro, informar o novo valor e o sistema salvará essa alteração no repositório. Faça as adaptações que julgar necessárias, inclusive na própria classe Livro. Por fim, descomente o item 4 do when na função `main()` adicionando a chamada a função `editarLivro()` a ele.\n",
    "\n",
    "Parabéns! você concluiu a prática :)"
   ],
   "metadata": {
    "collapsed": false
   }
  },
  {
   "cell_type": "markdown",
   "source": [
    "## Referências\n",
    "https://kotlinlang.org/docs/home.html"
   ],
   "metadata": {
    "collapsed": false
   }
  }
 ],
 "metadata": {
  "kernelspec": {
   "display_name": "Kotlin",
   "language": "kotlin",
   "name": "kotlin"
  },
  "language_info": {
   "name": "kotlin",
   "version": "1.9.0",
   "mimetype": "text/x-kotlin",
   "file_extension": ".kt",
   "pygments_lexer": "kotlin",
   "codemirror_mode": "text/x-kotlin",
   "nbconvert_exporter": ""
  }
 },
 "nbformat": 4,
 "nbformat_minor": 0
}
