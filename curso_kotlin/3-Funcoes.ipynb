{
 "cells": [
  {
   "cell_type": "markdown",
   "source": [
    "![Logo do Kotlin](https://upload.wikimedia.org/wikipedia/commons/thumb/d/d4/Kotlin_logo.svg/2560px-Kotlin_logo.svg.png)\n",
    "\n",
    "# Funções\n",
    "\n",
    "## Introdução\n",
    "O que são funções? São trechos de código projetados para serem reutilizados em várias partes de um programa ou sistema, frequentemente referidos como “rotinas” na programação. Funções podem variar em complexidade, desde tarefas simples, como soma(a, b), até aquelas mais sofisticadas, cada uma cumprindo uma tarefa específica.\n",
    "\n",
    "## Declaração de Funções\n",
    "Em Kotlin, as funções são declaradas usando a palavra-chave **fun**:"
   ],
   "metadata": {
    "collapsed": false
   }
  },
  {
   "cell_type": "code",
   "outputs": [],
   "source": [
    "fun saudacao(nome: String) {\n",
    "    println(\"Bem vindo(a), ${nome}!\")\n",
    "}"
   ],
   "metadata": {
    "collapsed": false,
    "ExecuteTime": {
     "end_time": "2024-03-05T00:13:58.306871600Z",
     "start_time": "2024-03-05T00:13:58.142186900Z"
    }
   },
   "execution_count": 370
  },
  {
   "cell_type": "markdown",
   "source": [
    "O nome da função é **saudacao**, ela tem um parâmetro **nome** do tipo ***String***, e retorna uma mensagem de boas-vindas.\n",
    "\n",
    "Para chamar uma função, basta escrever o nome da função, seguido de uma lista de argumentos entre parênteses:"
   ],
   "metadata": {
    "collapsed": false
   }
  },
  {
   "cell_type": "code",
   "outputs": [
    {
     "name": "stdout",
     "output_type": "stream",
     "text": [
      "Bem vindo(a), Allan!\r\n",
      "kotlin.Unit\r\n"
     ]
    }
   ],
   "source": [
    "fun saudacao(nome: String) {\n",
    "    println(\"Bem vindo(a), ${nome}!\")\n",
    "}\n",
    "\n",
    "val resultado = saudacao(\"Allan\") // chamando a função saudacao() aqui\n",
    "println(resultado)"
   ],
   "metadata": {
    "collapsed": false,
    "ExecuteTime": {
     "end_time": "2024-03-05T00:13:58.733797800Z",
     "start_time": "2024-03-05T00:13:58.551557800Z"
    }
   },
   "execution_count": 371
  },
  {
   "cell_type": "markdown",
   "source": [
    "Pode-se também chamar funções membros de uma classe, utilizando-se a notação `.nomeFuncao()` depois da própria classe:"
   ],
   "metadata": {
    "collapsed": false
   }
  },
  {
   "cell_type": "code",
   "outputs": [
    {
     "name": "stderr",
     "output_type": "stream",
     "text": [
      "Line_372.jupyter.kts (1:1 - 7) Unresolved reference: Stream"
     ]
    }
   ],
   "source": [
    "Stream().read() // é criada uma instância da classe Stream e então é chamado o método read()"
   ],
   "metadata": {
    "collapsed": false,
    "ExecuteTime": {
     "end_time": "2024-03-05T00:13:58.802505Z",
     "start_time": "2024-03-05T00:13:58.736805100Z"
    }
   },
   "execution_count": 372
  },
  {
   "cell_type": "markdown",
   "source": [
    "## Parâmetros"
   ],
   "metadata": {
    "collapsed": false
   }
  },
  {
   "cell_type": "markdown",
   "source": [
    "As funções podem ter parâmetros, que são especificados entre parênteses após o nome da função.\n",
    "\n",
    "Os parâmetros da função são definidos usando a notação *Pascal* - **nome**: **Tipo**, a fim de garantir segurança de tipos e a clareza no código.\n",
    "\n",
    "Os parâmetros são separados por vírgulas e cada parâmetro deve ser digitado explicitamente:"
   ],
   "metadata": {
    "collapsed": false
   }
  },
  {
   "cell_type": "code",
   "outputs": [],
   "source": [
    "fun somar(numero1: Int, numero2: Int): Int { \n",
    "    return numero1 + numero2\n",
    "}"
   ],
   "metadata": {
    "collapsed": false,
    "ExecuteTime": {
     "end_time": "2024-03-05T00:13:58.888528500Z",
     "start_time": "2024-03-05T00:13:58.806507200Z"
    }
   },
   "execution_count": 373
  },
  {
   "cell_type": "markdown",
   "source": [
    "### Tipos de parâmetros\n",
    "Os tipos do parâmetros da função podem ser de tipos primitivos (por exemplo, `Int`, `Double`, `Boolean`), assim como de tipos não primitivos (objetos). \n",
    "\n",
    "No código abaixo veremos dois exemplos de tipos de parâmetros:"
   ],
   "metadata": {
    "collapsed": false
   }
  },
  {
   "cell_type": "code",
   "outputs": [
    {
     "name": "stdout",
     "output_type": "stream",
     "text": [
      "o nome do aluno eh: Gustavo!\r\n"
     ]
    }
   ],
   "source": [
    "class Aluno(val nome: String){}\n",
    "\n",
    "/*Neste exemplo, a função recebe um tipo string como parametro */\n",
    "fun criarAluno(nomeAluno: String) : Aluno{\n",
    "    return Aluno(nomeAluno);\n",
    "}\n",
    "\n",
    "/*Neste exemplo, a função recebe um tipo objeto como parametro */\n",
    "fun mostrarNomeAluno(aluno:Aluno){\n",
    "    println(\"o nome do aluno eh: ${aluno.nome}!\")\n",
    "}\n",
    "\n",
    "val a1:Aluno = criarAluno(\"Gustavo\");\n",
    "mostrarNomeAluno(a1);"
   ],
   "metadata": {
    "collapsed": false,
    "ExecuteTime": {
     "end_time": "2024-03-05T00:13:59.114979400Z",
     "start_time": "2024-03-05T00:13:58.898769300Z"
    }
   },
   "execution_count": 374
  },
  {
   "cell_type": "markdown",
   "source": [
    "### Atribuição de valores"
   ],
   "metadata": {
    "collapsed": false
   }
  },
  {
   "cell_type": "markdown",
   "source": [
    "Em Kotlin, existe duas maneiras de se atribuir valores aos parâmetros de uma função: Atribuição Posicional e Atribuição Nomeada.\n",
    "\n",
    "**Atribuição Posicional (Positional Assignment)**: é a forma comumente utilizada, onde  os valores são atribuídos aos parâmetros com base na ordem em que são declarados na assinatura da função."
   ],
   "metadata": {
    "collapsed": false
   }
  },
  {
   "cell_type": "code",
   "outputs": [
    {
     "name": "stdout",
     "output_type": "stream",
     "text": [
      "Nome: Alice, Idade: 25\r\n"
     ]
    }
   ],
   "source": [
    "fun imprimirDados(nome: String, idade: Int) {\n",
    "    println(\"Nome: $nome, Idade: $idade\")\n",
    "}\n",
    "\n",
    "// Atribuição posicional\n",
    "imprimirDados(\"Alice\", 25)"
   ],
   "metadata": {
    "collapsed": false,
    "ExecuteTime": {
     "end_time": "2024-03-05T00:13:59.596831900Z",
     "start_time": "2024-03-05T00:13:59.452154Z"
    }
   },
   "execution_count": 375
  },
  {
   "cell_type": "markdown",
   "source": [
    "Atribuição Nomeada (Named Assignment): Existe, mas não é muito utilizada. Permite atribuir valores aos parâmetros especificando o nome do parâmetro seguido por = e o valor correspondente."
   ],
   "metadata": {
    "collapsed": false
   }
  },
  {
   "cell_type": "code",
   "outputs": [
    {
     "name": "stdout",
     "output_type": "stream",
     "text": [
      "Nome: Kleber, Idade: 45 \r\n"
     ]
    }
   ],
   "source": [
    "fun imprimirDadosParametrosInvertidos(idade: Int, nome: String) {\n",
    "    println(\"Nome: $nome, Idade: $idade \")\n",
    "}\n",
    "\n",
    "// Atribuição Nomeada\n",
    "imprimirDadosParametrosInvertidos(nome=\"Kleber\",  idade=45)"
   ],
   "metadata": {
    "collapsed": false,
    "ExecuteTime": {
     "end_time": "2024-03-05T00:13:59.843088500Z",
     "start_time": "2024-03-05T00:13:59.722569400Z"
    }
   },
   "execution_count": 376
  },
  {
   "cell_type": "markdown",
   "source": [
    "### Parâmetros Padrão (Default Parameters):\n",
    "Caso a sua função possua a necessidade de garantir que um parâmetro possua sempre algum valor, o Kotlin permite definir valores padrão para os parâmetros. Isso significa que você pode fornecer valores padrão para alguns ou todos os parâmetros de uma função, permitindo que chamadores da função omitam esses parâmetros se desejarem.\n",
    "\n",
    "**Veja o exemplo abaixo**:"
   ],
   "metadata": {
    "collapsed": false
   }
  },
  {
   "cell_type": "code",
   "outputs": [
    {
     "name": "stdout",
     "output_type": "stream",
     "text": [
      "Allan saudou com um: Bom dia \r\n"
     ]
    }
   ],
   "source": [
    "fun saudar(nome:String, saudacao:String =\"Bom dia\"){\n",
    "    println(\"$nome saudou com um: $saudacao \")\n",
    "}\n",
    "saudar(\"Allan\")"
   ],
   "metadata": {
    "collapsed": false,
    "ExecuteTime": {
     "end_time": "2024-03-05T00:13:59.964842Z",
     "start_time": "2024-03-05T00:13:59.845115800Z"
    }
   },
   "execution_count": 377
  },
  {
   "cell_type": "markdown",
   "source": [
    "### Infinitos Parâmetros (vararg e spread):"
   ],
   "metadata": {
    "collapsed": false
   }
  },
  {
   "cell_type": "markdown",
   "source": [
    "Em Kotlin,  existe a possibilidade de permitir que um parâmetro receba infinitos argumentos do mesmo tipo, através do recurso ***vararg***, o qual permite que uma função aceite um número variável de argumentos do mesmo tipo.\n",
    "\n",
    "Dentro do escopo da função, o **parâmetro** declarado como ***vararg*** é tratado como um ***array***, e você pode iterar sobre os elementos ou usá-los de outras maneiras.  \n",
    "\n",
    "Existem duas formas de passar os valores para um  ***vararg***: você pode passar os valores desejados diretamente na chamada da função, ou você pode utilizar o operador \"*\" (*Spread*) para descompactar uma lista de valores. Veja o exemplo abaixo."
   ],
   "metadata": {
    "collapsed": false
   }
  },
  {
   "cell_type": "code",
   "outputs": [
    {
     "name": "stdout",
     "output_type": "stream",
     "text": [
      "600\r\n",
      "0\r\n"
     ]
    }
   ],
   "source": [
    "// Definindo uma função chamada encontrarMaiorNumero que aceita um número variável de argumentos (varargs) inteiros\n",
    "fun encontrarMaiorNumero(vararg numeros: Int): Int? {\n",
    "    if (numeros.isEmpty()) {\n",
    "        return null;\n",
    "    }\n",
    "\n",
    "    var maiorNumero = numeros[0];\n",
    "\n",
    "    for (numero in numeros) {\n",
    "        if (numero > maiorNumero) {\n",
    "            maiorNumero = numero;\n",
    "        }\n",
    "    }\n",
    "\n",
    "    return maiorNumero;\n",
    "}\n",
    "\n",
    "// Exemplo de chamada da função com valores diretamente fornecidos\n",
    "println(encontrarMaiorNumero(1, 2, 3, 4, 5, 600, 7, 8, 9, 10))\n",
    "\n",
    "// Exemplo de chamada da função com descompactação de lista usando o operador spread '*'\n",
    "val valores = listOf(-4, -5, 0, -1, -9, -8)\n",
    "println(encontrarMaiorNumero(*valores.toIntArray()))"
   ],
   "metadata": {
    "collapsed": false,
    "ExecuteTime": {
     "end_time": "2024-03-05T00:14:00.342900600Z",
     "start_time": "2024-03-05T00:13:59.977329600Z"
    }
   },
   "execution_count": 378
  },
  {
   "cell_type": "markdown",
   "source": [
    "O uso de parâmetros ***varargs*** é uma maneira eficiente e flexível de lidar com funções que podem aceitar um número variável de argumentos do mesmo tipo. Isso é comumente utilizado para simplificar chamadas de funções com diferentes quantidades de parâmetros."
   ],
   "metadata": {
    "collapsed": false
   }
  },
  {
   "cell_type": "markdown",
   "source": [
    "## Retornos\n",
    "Uma função sempre terá um retorno, mas nem sempre ele será explícito. Portanto, quanto ao tipo de retorno, as funções são divididas em dois tipos: **funções de retorno implícito** e **funções de retorno explícito**.\n",
    "\n",
    "## Funções de retorno implícito\n",
    "Explicando de forma didática, o retorno implícito é o *Void* que já conhecemos de outras linguagens. Porém, em Kotlin, não será *Void*, mas sim ***Unit***. Lembrando que funções de retorno implícito podem ter seu tipo também implícito, isto é, podemos colocar “Unit” ou não. Vejam as possibilidades:"
   ],
   "metadata": {
    "collapsed": false
   }
  },
  {
   "cell_type": "code",
   "outputs": [
    {
     "name": "stdout",
     "output_type": "stream",
     "text": [
      "Olá, Mundo!\r\n"
     ]
    }
   ],
   "source": [
    "// Função de retorno implícito, colocando o \"Unit\" e sem parâmetros\n",
    "fun printOlaMundo(): Unit {\n",
    "    println(\"Olá, Mundo!\")\n",
    "}\n",
    "\n",
    "printOlaMundo()"
   ],
   "metadata": {
    "collapsed": false,
    "ExecuteTime": {
     "end_time": "2024-03-05T00:14:00.446868700Z",
     "start_time": "2024-03-05T00:14:00.344996500Z"
    }
   },
   "execution_count": 379
  },
  {
   "cell_type": "code",
   "outputs": [
    {
     "name": "stdout",
     "output_type": "stream",
     "text": [
      "Olá, Marte!\r\n"
     ]
    }
   ],
   "source": [
    "// Função de retorno implícito, sem colocar o \"Unit\" e com parâmetros\n",
    "fun printOlaPlaneta(planeta: String) {\n",
    "    println(\"Olá, $planeta!\")\n",
    "}\n",
    "\n",
    "printOlaPlaneta(\"Marte\")"
   ],
   "metadata": {
    "collapsed": false,
    "ExecuteTime": {
     "end_time": "2024-03-05T00:14:00.557723500Z",
     "start_time": "2024-03-05T00:14:00.450192800Z"
    }
   },
   "execution_count": 380
  },
  {
   "cell_type": "code",
   "outputs": [
    {
     "name": "stdout",
     "output_type": "stream",
     "text": [
      "Funcionário do ID 3 agora possui o seguinte cargo: Desenvolvedor Sênior.\r\n"
     ]
    }
   ],
   "source": [
    "// Função para atualizar o cargo profissional de algum funcionário\n",
    "fun atualizarCargo(id: Int, novoCargo: String): Unit {\n",
    "    println(\"Funcionário do ID $id agora possui o seguinte cargo: $novoCargo.\")\n",
    "}\n",
    "\n",
    "atualizarCargo(3, \"Desenvolvedor Sênior\")"
   ],
   "metadata": {
    "collapsed": false,
    "ExecuteTime": {
     "end_time": "2024-03-05T00:14:00.677416900Z",
     "start_time": "2024-03-05T00:14:00.560732900Z"
    }
   },
   "execution_count": 381
  },
  {
   "cell_type": "markdown",
   "source": [
    "### Funções de retorno explícito\n",
    "Agora que compreendemos as **funções de retorno implícito**, vamos explorar as **funções de retorno explícito**. Essas são funções em que os resultados precisam ser explicitamente declarados (🤯). Sim, é isso mesmo: o tipo de retorno deve ser especificado, é uma exigência!\n",
    "\n",
    "Vejamos alguns exemplos:"
   ],
   "metadata": {
    "collapsed": false
   }
  },
  {
   "cell_type": "code",
   "outputs": [],
   "source": [
    "// Soma dois números e retorna um valor inteiro\n",
    "fun somar(a: Int, b: Int): Int {\n",
    "    return a + b\n",
    "}\n",
    "\n",
    "// Lê dois números, calcula a média deles e retorna um valor decimal\n",
    "fun calcularMedia (n1: Double, n2: Double): Double {\n",
    "\treturn (n1+n2) / 2\n",
    "}\n",
    "\n",
    "// Lê um número e retorna um booleano para caso ele seja par\n",
    "fun numeroPar(numero: Int): Boolean {\n",
    "    return numero % 2 == 0\n",
    "}\n",
    "\n",
    "// Cria uma lista imutável de strings\n",
    "fun criarLista(): List<String> {\n",
    "    return listOf(\"Paraíba\", \"Pernambuco\", \"Ceará\")\n",
    "}\n",
    "\n",
    "// Cria uma lista mutável de inteiros\n",
    "fun criarListaMutavel(): MutableList<Int> {\n",
    "    return mutableListOf(1, 2, 3)\n",
    "}"
   ],
   "metadata": {
    "collapsed": false,
    "ExecuteTime": {
     "end_time": "2024-03-05T00:14:00.906159700Z",
     "start_time": "2024-03-05T00:14:00.681400500Z"
    }
   },
   "execution_count": 382
  },
  {
   "cell_type": "markdown",
   "source": [
    "### Sugestão\n",
    "Aqui vai uma dica valiosa: se a sua função consiste em apenas uma linha de código que retorna um valor, você pode utilizar a \"sintaxe de expressão de função\" para tornar a sua escrita ainda mais concisa. Por exemplo:"
   ],
   "metadata": {
    "collapsed": false
   }
  },
  {
   "cell_type": "code",
   "outputs": [
    {
     "data": {
      "text/plain": "30"
     },
     "execution_count": 383,
     "metadata": {},
     "output_type": "execute_result"
    }
   ],
   "source": [
    "// Aquela mesma função somar apresentada anteriormente\n",
    "fun somar(a: Int, b: Int) = a + b\n",
    "\n",
    "somar(20, 10)"
   ],
   "metadata": {
    "collapsed": false,
    "ExecuteTime": {
     "end_time": "2024-03-05T00:14:01.041253600Z",
     "start_time": "2024-03-05T00:14:00.909602600Z"
    }
   },
   "execution_count": 383
  },
  {
   "cell_type": "markdown",
   "source": [
    "Nesse caso, o compilador é capaz de inferir o tipo de retorno da função como ***Int***, então você não precisa especificá-lo explicitamente."
   ],
   "metadata": {
    "collapsed": false
   }
  },
  {
   "cell_type": "markdown",
   "source": [
    "## Funções de ordem superior\n",
    "As funções de ordem superior são aquelas capazes de receber outras funções como parâmetros ou retorná-las. Em Kotlin, você pode definir funções de ordem superior utilizando tipos de função ou lambdas.\n",
    "\n",
    "### Definindo uma função de ordem superior que recebe outra função como parâmetro"
   ],
   "metadata": {
    "collapsed": false
   }
  },
  {
   "cell_type": "code",
   "outputs": [],
   "source": [
    "fun operacao(a: Double, b: Double, operador: (Double, Double) \n",
    "-> Double): Double {\n",
    "    return operador(a, b)\n",
    "}"
   ],
   "metadata": {
    "collapsed": false,
    "ExecuteTime": {
     "end_time": "2024-03-05T00:14:01.235802400Z",
     "start_time": "2024-03-05T00:14:01.045279100Z"
    }
   },
   "execution_count": 384
  },
  {
   "cell_type": "markdown",
   "source": [
    "Em resumo, essa função operacao() permite que você realize uma operação (definida pela função operador) em dois números decimais (a e b). O resultado da operação é então retornado como um valor decimal. A flexibilidade dessa função reside no fato de que você pode passar diferentes operadores para realizar diferentes tipos de operações."
   ],
   "metadata": {
    "collapsed": false
   }
  },
  {
   "cell_type": "markdown",
   "source": [
    "### Definindo funções que serão passadas como parâmetro"
   ],
   "metadata": {
    "collapsed": false
   }
  },
  {
   "cell_type": "code",
   "outputs": [],
   "source": [
    "//Função somar recebe dois números e soma\n",
    "fun soma(x: Double, y: Double): Double {\n",
    "    return x + y\n",
    "}\n",
    "\n",
    "//Função subtração recebe dois números e subtraí \n",
    "fun subtracao(x: Double, y: Double): Double {\n",
    "    return x - y\n",
    "}"
   ],
   "metadata": {
    "collapsed": false,
    "ExecuteTime": {
     "end_time": "2024-03-05T00:14:01.345009400Z",
     "start_time": "2024-03-05T00:14:01.238303200Z"
    }
   },
   "execution_count": 385
  },
  {
   "cell_type": "markdown",
   "source": [
    "### Hora de executar"
   ],
   "metadata": {
    "collapsed": false
   }
  },
  {
   "cell_type": "code",
   "outputs": [
    {
     "name": "stdout",
     "output_type": "stream",
     "text": [
      "Resultado da soma: 15.0\r\n",
      "Resultado da subtração: 5.0\r\n",
      "Resultado da multiplicação: 50.0\r\n"
     ]
    }
   ],
   "source": [
    "fun operacao(a: Double, b: Double, operador: (Double, Double) \n",
    "-> Double): Double {\n",
    "    return operador(a, b)\n",
    "}\n",
    "\n",
    "fun soma(x: Double, y: Double): Double {\n",
    "    return x + y\n",
    "}\n",
    "\n",
    "fun subtracao(x: Double, y: Double): Double {\n",
    "    return x - y\n",
    "}\n",
    "\n",
    "// Passando a função soma como parâmetro\n",
    "val resultadoSoma = operacao(10.0, 5.0, ::soma) \n",
    "println(\"Resultado da soma: $resultadoSoma\")\n",
    "\n",
    "// Passando a função subtração como parâmetro\n",
    "val resultadoSubtracao = operacao(10.0, 5.0, ::subtracao) \n",
    "println(\"Resultado da subtração: $resultadoSubtracao\")\n",
    "\n",
    "// Usando uma função lambda diretamente como parâmetro\n",
    "val resultadoMultiplicacao = operacao(10.0, 5.0) { x, y -> x * y }\n",
    "println(\"Resultado da multiplicação: $resultadoMultiplicacao\")"
   ],
   "metadata": {
    "collapsed": false,
    "ExecuteTime": {
     "end_time": "2024-03-05T00:14:01.700980400Z",
     "start_time": "2024-03-05T00:14:01.348043300Z"
    }
   },
   "execution_count": 386
  },
  {
   "cell_type": "markdown",
   "source": [
    "## Lambdas\n",
    "Lambdas são expressões de função anônimas que podem ser atribuídas a variáveis ou passadas como argumentos para funções. Em Kotlin, elas são escritas usando a sintaxe “{ argumentos -> corpo }”\n",
    "\n",
    "### Sintaxe:"
   ],
   "metadata": {
    "collapsed": false
   }
  },
  {
   "cell_type": "code",
   "outputs": [],
   "source": [
    "val sum: (Int, Int) -> Int = { x: Int, y: Int -> x + y }"
   ],
   "metadata": {
    "collapsed": false,
    "ExecuteTime": {
     "end_time": "2024-03-05T00:14:01.823342600Z",
     "start_time": "2024-03-05T00:14:01.703845100Z"
    }
   },
   "execution_count": 387
  },
  {
   "cell_type": "markdown",
   "source": [
    "Outras formas:"
   ],
   "metadata": {
    "collapsed": false
   }
  },
  {
   "cell_type": "code",
   "outputs": [],
   "source": [
    "val sum: (Int, Int) -> Int = { x, y -> x + y }\n",
    "val sum1 = { x: Int, y: Int -> x + y }"
   ],
   "metadata": {
    "collapsed": false,
    "ExecuteTime": {
     "end_time": "2024-03-05T00:14:01.936551300Z",
     "start_time": "2024-03-05T00:14:01.825340900Z"
    }
   },
   "execution_count": 388
  },
  {
   "cell_type": "markdown",
   "source": [
    "- Uma expressão lambda é sempre cercada por chaves.\n",
    "- Os parâmetros são descritos na parte que antecede a seta ( “->” ).\n",
    "- O corpo da função corresponde ao conteúdo escrito após a seta."
   ],
   "metadata": {
    "collapsed": false
   }
  },
  {
   "cell_type": "markdown",
   "source": [
    "Exemplo:"
   ],
   "metadata": {
    "collapsed": false
   }
  },
  {
   "cell_type": "code",
   "outputs": [
    {
     "name": "stdout",
     "output_type": "stream",
     "text": [
      "25\r\n"
     ]
    }
   ],
   "source": [
    "val quadrado: (Int) -> Int = { x: Int -> (x * x)}\n",
    "println(quadrado(5))"
   ],
   "metadata": {
    "collapsed": false,
    "ExecuteTime": {
     "end_time": "2024-03-05T00:14:02.090604300Z",
     "start_time": "2024-03-05T00:14:01.937545300Z"
    }
   },
   "execution_count": 389
  },
  {
   "cell_type": "markdown",
   "source": [
    "É possível escrever mais que uma expressão/linha de código no corpo de uma Lambda, mas ao contrário das funções normais, as Lambdas não aceitam um retorno explícito (”return”)."
   ],
   "metadata": {
    "collapsed": false
   }
  },
  {
   "cell_type": "code",
   "outputs": [
    {
     "name": "stdout",
     "output_type": "stream",
     "text": [
      "Proteina necessaria: Mais que um boi!\r\n",
      "Tipo do dado retornado: String\r\n"
     ]
    }
   ],
   "source": [
    "// Calcula a quantidade de proteina diária que uma pessoa deve ingerir levando em consideração o peso dela.\n",
    "val proteinaNecessariaPorPeso = { peso: Int ->\n",
    "    val resultado = peso * 0.8\n",
    "\n",
    "    if (resultado < 96) {\n",
    "        resultado // Retorno implícito, do tipo Int ou Double.\n",
    "    } else {\n",
    "        \"Mais que um boi!\" // Retorno implícito, do tipo String.\n",
    "    }\n",
    "}\n",
    "\n",
    "with(proteinaNecessariaPorPeso(130)) {\n",
    "    println(\"Proteina necessaria: $this\")\n",
    "    println(\"Tipo do dado retornado: ${this::class.simpleName}\")\n",
    "}"
   ],
   "metadata": {
    "collapsed": false,
    "ExecuteTime": {
     "end_time": "2024-03-05T00:14:02.313955800Z",
     "start_time": "2024-03-05T00:14:02.091604200Z"
    }
   },
   "execution_count": 390
  },
  {
   "cell_type": "markdown",
   "source": [
    "Uma função de alta ordem que recebe uma lambda como parâmetro:"
   ],
   "metadata": {
    "collapsed": false
   }
  },
  {
   "cell_type": "code",
   "outputs": [
    {
     "data": {
      "text/plain": "25"
     },
     "execution_count": 391,
     "metadata": {},
     "output_type": "execute_result"
    }
   ],
   "source": [
    "val quadrado: (Int) -> Int = { x: Int -> (x * x)}\n",
    "\n",
    "fun aplicar(x: Int, f: (Int) -> Int): Int {\n",
    "    return f(x)\n",
    "}\n",
    "aplicar(5, quadrado)"
   ],
   "metadata": {
    "collapsed": false,
    "ExecuteTime": {
     "end_time": "2024-03-05T00:14:02.436934600Z",
     "start_time": "2024-03-05T00:14:02.315166100Z"
    }
   },
   "execution_count": 391
  },
  {
   "cell_type": "markdown",
   "source": [
    "Lambda anônima declarada como parâmetro de outra função (na lista de parâmetros):"
   ],
   "metadata": {
    "collapsed": false
   }
  },
  {
   "cell_type": "code",
   "outputs": [
    {
     "name": "stdout",
     "output_type": "stream",
     "text": [
      "O quadrado de 11 é: 121\r\n"
     ]
    }
   ],
   "source": [
    "with({ x: Int -> (x * x)}) {\n",
    "    val numero = 11\n",
    "    \"O quadrado de $numero é: ${this(numero)}\".run(::println)\n",
    "}"
   ],
   "metadata": {
    "collapsed": false,
    "ExecuteTime": {
     "end_time": "2024-03-05T00:14:02.652253400Z",
     "start_time": "2024-03-05T00:14:02.438954600Z"
    }
   },
   "execution_count": 392
  },
  {
   "cell_type": "markdown",
   "source": [
    "## Prática\n",
    "\n",
    "### Sistema Acadêmico em Kotlin: Gerenciamento de Notas de Alunos\n",
    "\n",
    "Neste exercício, você desenvolverá um sistema acadêmico simples em Kotlin para gerenciar as notas dos alunos em diferentes disciplinas. Veja a função main() para entender o que será proposto.\n",
    "\n",
    "O sistema contará com os seguintes métodos:"
   ],
   "metadata": {
    "collapsed": false
   }
  },
  {
   "cell_type": "code",
   "outputs": [
    {
     "name": "stderr",
     "output_type": "stream",
     "text": [
      "Line_393.jupyter.kts (78:26 - 33) Parameter 'materia' is never used\n",
      "Line_393.jupyter.kts (78:49 - 53) Parameter 'nota' is never used\n",
      "Line_393.jupyter.kts (97:58 - 61) The floating-point literal does not conform to the expected type Int\n",
      "Line_393.jupyter.kts (97:63 - 67) The floating-point literal does not conform to the expected type (Int) -> TypeVariable(T)\n",
      "Line_393.jupyter.kts (97:69 - 72) Too many arguments for public inline fun <T> MutableList(size: Int, init: (index: Int) -> T): MutableList<T> defined in kotlin.collections"
     ]
    }
   ],
   "source": [
    "/*\n",
    "//////////////////////////\n",
    "Leia o corpo do main para entender a atividade;\n",
    "//////////////////////////\n",
    "*/\n",
    "\n",
    "val materiasENotas = mutableMapOf<String, MutableList<Double>>()\n",
    "\n",
    "/**\n",
    " * Adiciona uma disciplina no dicionário mutável,\n",
    " * Recebe um array de notas (opcional)\n",
    " * Retorna true se conseguiu, false se não.\n",
    " */\n",
    "fun adicionarDisciplina(materia: String, notas: MutableList<Double> = mutableListOf()): Boolean {\n",
    "    return materiasENotas.put(materia, notas) != null\n",
    "}\n",
    "\n",
    "/**\n",
    " * Adiciona uma nota à lista de notas de uma determinada matéria;\n",
    " * Retorna true se conseguiu adicionar, false se não conseguiu.\n",
    " */\n",
    "fun adicionarNota(materia: String, nota: Double): Boolean {\n",
    "    val notasDaMateria = materiasENotas[materia]\n",
    "\n",
    "    return if (notasDaMateria != null) {\n",
    "        notasDaMateria.add(nota)\n",
    "        true\n",
    "    } else {\n",
    "        false\n",
    "    }\n",
    "}\n",
    "\n",
    "\n",
    "/**\n",
    " *Mostra na tela todas as notas presentes em uma matéria, no seguinte formato:\n",
    " * Materia: {nome da materia}\n",
    " * Nota 1: 5.4 \\n\n",
    " * Nota 2: 7.8 \\n\n",
    " * ...\n",
    " * Nota n: 10 \\n\n",
    " * Caso não encontre a materia no map, mostre:\n",
    " * Materia {nome da materia} não encontrada \\n\n",
    " * Caso não seja possível mostar as notas, mostre:\n",
    " * Não foi possível mostrar as notas da matéria {nome da materia} \\n\n",
    " */\n",
    "fun mostrarNotas(materia:String){\n",
    "\n",
    "    if(!materiasENotas.containsKey(materia)){\n",
    "        println(\"Materia $materia não encontrada\")\n",
    "    }\n",
    "    else{\n",
    "        val listaNotas = materiasENotas[materia]\n",
    "\n",
    "        if (listaNotas != null) {\n",
    "            var cont = 1\n",
    "            for(nota:Double in listaNotas){\n",
    "                println(\"Nota ${cont++}: $nota\")\n",
    "            }\n",
    "        }\n",
    "        else{\n",
    "            println(\"Não foi possível mostrar as notas da matéria ${materia}\")\n",
    "        }\n",
    "    }\n",
    "\n",
    "\n",
    "}\n",
    "\n",
    "/*\n",
    "Retorna a média obtida apartir de uma lista de notas \n",
    "*/\n",
    "fun calcularMedia(){ }\n",
    "\n",
    "\n",
    "/**\n",
    " *Adiciona várias notas de uma só vez em uma matéria\n",
    " * retorne true se conseguiu adicionar, false se não consegiu.\n",
    " * */\n",
    "fun adicionarVariasNotas(materia:String, vararg nota:Double){}\n",
    "\n",
    "\n",
    "fun main(){\n",
    "    // 1. adicionarDisciplinas -> adicione 1 disciplina ao map materiasENotas, através de atribuição possicional\n",
    "    // 2. adicionarDisciplinas -> adicione 1 disciplina ao map materiasENotas, através de atribuição nomeada\n",
    "    // 3. adicionarDisciplinas -> altere a função adicionarDisciplinas para que o parametros notas seja opcional. Dica: utilize mutableListOf()\n",
    "    // 4. adicionarDisciplinas -> adicione 1 disciplina ao map materiasENotas, sem atribuir valores a notas\n",
    "    // 5. adicionarNota -> adicione 3 notas para as 3 disciplinas\n",
    "    // 6. mostrarNotas -> Mostre as notas das 3 disciplinas\n",
    "    // 7. adicionarDisciplina -> adicione mais 1 disciplina\n",
    "    // 8. adicionarVariasNotas -> implemente o metodo adicionarVariasNotas();\n",
    "    // 9. adicionarVariasNotas -> adicione 3 notas para a disciplina que você acabou de criar\n",
    "    // 10. mostrarNotas -> mostre as notas da disciplina que você acabou de criar;\n",
    "    // Bônus: (Não vai ganhar nada, ou melhor mais ganhar mais conhecimento >:O)\n",
    "    // 11: calcularMedia -> Implemente a função calcularMedia()\n",
    "    // 12: calcularMedia -> calcule a media de 2 disciplinas\n",
    "    // 13: mostrarNotas -> altere o mostrarNotas() para que ele mostre também a media das disciplinas\n",
    "    // 14: mostrarNotas -> mostre as notas de 1 disciplina \n",
    "\n",
    "}"
   ],
   "metadata": {
    "collapsed": false,
    "ExecuteTime": {
     "end_time": "2024-03-05T00:14:03.099021800Z",
     "start_time": "2024-03-05T00:14:02.655249800Z"
    }
   },
   "execution_count": 393
  }
 ],
 "metadata": {
  "kernelspec": {
   "display_name": "Kotlin",
   "language": "kotlin",
   "name": "kotlin"
  },
  "language_info": {
   "name": "kotlin",
   "version": "1.9.0",
   "mimetype": "text/x-kotlin",
   "file_extension": ".kt",
   "pygments_lexer": "kotlin",
   "codemirror_mode": "text/x-kotlin",
   "nbconvert_exporter": ""
  }
 },
 "nbformat": 4,
 "nbformat_minor": 0
}
