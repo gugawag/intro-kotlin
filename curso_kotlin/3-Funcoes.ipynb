{
 "cells": [
  {
   "cell_type": "markdown",
   "source": [
    "![Logo do Kotlin](https://upload.wikimedia.org/wikipedia/commons/thumb/d/d4/Kotlin_logo.svg/2560px-Kotlin_logo.svg.png)\n",
    "\n",
    "# Funções\n",
    "O que são funções? São trechos de código projetados para serem reutilizados em várias partes de um programa ou sistema, frequentemente referidos como “rotinas” na programação. Funções podem variar em complexidade, desde tarefas simples, como soma(a, b), até aquelas mais sofisticadas, cada uma cumprindo uma tarefa específica.\n",
    "\n",
    "## Declaração de Funções\n",
    "Em Kotlin, as funções são declaradas usando a palavra-chave **fun**:"
   ],
   "metadata": {
    "collapsed": false
   }
  },
  {
   "cell_type": "code",
   "outputs": [],
   "source": [
    "fun saudacao(nome: String) {\n",
    "    println(\"Bem vindo(a), ${nome}!\")\n",
    "}"
   ],
   "metadata": {
    "collapsed": false,
    "ExecuteTime": {
     "end_time": "2024-03-04T12:22:04.475568100Z",
     "start_time": "2024-03-04T12:22:04.414464Z"
    }
   },
   "execution_count": 48
  },
  {
   "cell_type": "markdown",
   "source": [
    "O nome da função é **saudacao**, ela tem um parâmetro **nome** do tipo ***String***, e retorna uma mensagem de boas-vindas.\n",
    "\n",
    "Para chamar uma função, basta escrever o nome da função, seguido de uma lista de argumentos entre parênteses:"
   ],
   "metadata": {
    "collapsed": false
   }
  },
  {
   "cell_type": "code",
   "outputs": [
    {
     "name": "stdout",
     "output_type": "stream",
     "text": [
      "Bem vindo(a), Allan!\r\n",
      "kotlin.Unit\r\n"
     ]
    }
   ],
   "source": [
    "fun saudacao(nome: String) {\n",
    "    println(\"Bem vindo(a), ${nome}!\")\n",
    "}\n",
    "\n",
    "val resultado = saudacao(\"Allan\") // chamando a função saudacao() aqui\n",
    "println(resultado)"
   ],
   "metadata": {
    "collapsed": false,
    "ExecuteTime": {
     "end_time": "2024-03-04T12:22:04.583049500Z",
     "start_time": "2024-03-04T12:22:04.505299600Z"
    }
   },
   "execution_count": 49
  },
  {
   "cell_type": "markdown",
   "source": [
    "Pode-se também chamar funções membros de uma classe, utilizando-se a notação `.nomeFuncao()` depois da própria classe:"
   ],
   "metadata": {
    "collapsed": false
   }
  },
  {
   "cell_type": "code",
   "outputs": [
    {
     "name": "stderr",
     "output_type": "stream",
     "text": [
      "Line_50.jupyter.kts (1:1 - 7) Unresolved reference: Stream"
     ]
    }
   ],
   "source": [
    "Stream().read() // é criada uma instância da classe Stream e então é chamado o método read()"
   ],
   "metadata": {
    "collapsed": false,
    "ExecuteTime": {
     "end_time": "2024-03-04T12:22:04.606431700Z",
     "start_time": "2024-03-04T12:22:04.585063100Z"
    }
   },
   "execution_count": 50
  },
  {
   "cell_type": "markdown",
   "source": [
    "## Parâmetros"
   ],
   "metadata": {
    "collapsed": false
   }
  },
  {
   "cell_type": "markdown",
   "source": [
    "As funções podem ter parâmetros, que são especificados entre parênteses após o nome da função.\n",
    "\n",
    "Os parâmetros da função são definidos usando a notação *Pascal* - **nome**: **Tipo**, a fim de garantir segurança de tipos e a clareza no código.\n",
    "\n",
    "Os parâmetros são separados por vírgulas e cada parâmetro deve ser digitado explicitamente:"
   ],
   "metadata": {
    "collapsed": false
   }
  },
  {
   "cell_type": "code",
   "outputs": [],
   "source": [
    "fun somar(numero1: Int, numero2: Int): Int { \n",
    "    return numero1 + numero2\n",
    "}"
   ],
   "metadata": {
    "collapsed": false,
    "ExecuteTime": {
     "end_time": "2024-03-04T12:22:04.663625700Z",
     "start_time": "2024-03-04T12:22:04.610422700Z"
    }
   },
   "execution_count": 51
  },
  {
   "cell_type": "markdown",
   "source": [
    "### Tipos de parâmetros\n",
    "Os tipos do parâmetros da função podem ser de tipos primitivos (por exemplo, `Int`, `Double`, `Boolean`), assim como de tipos não primitivos (objetos). \n",
    "\n",
    "No código abaixo veremos dois exemplos de tipos de parâmetros:"
   ],
   "metadata": {
    "collapsed": false
   }
  },
  {
   "cell_type": "code",
   "outputs": [
    {
     "name": "stdout",
     "output_type": "stream",
     "text": [
      "o nome do aluno eh: Gustavo!\r\n"
     ]
    }
   ],
   "source": [
    "class Aluno(val nome: String){}\n",
    "\n",
    "/*Neste exemplo, a função recebe um tipo string como parametro */\n",
    "fun criarAluno(nomeAluno: String) : Aluno{\n",
    "    return Aluno(nomeAluno);\n",
    "}\n",
    "\n",
    "/*Neste exemplo, a função recebe um tipo objeto como parametro */\n",
    "fun mostrarNomeAluno(aluno:Aluno){\n",
    "    println(\"o nome do aluno eh: ${aluno.nome}!\")\n",
    "}\n",
    "\n",
    "val a1:Aluno = criarAluno(\"Gustavo\");\n",
    "mostrarNomeAluno(a1);"
   ],
   "metadata": {
    "collapsed": false,
    "ExecuteTime": {
     "end_time": "2024-03-04T12:22:04.771839800Z",
     "start_time": "2024-03-04T12:22:04.665093600Z"
    }
   },
   "execution_count": 52
  },
  {
   "cell_type": "markdown",
   "source": [
    "### Atribuição de valores"
   ],
   "metadata": {
    "collapsed": false
   }
  },
  {
   "cell_type": "markdown",
   "source": [
    "Em Kotlin, existe duas maneiras de se atribuir valores aos parâmetros de uma função: Atribuição Posicional e Atribuição Nomeada.\n",
    "\n",
    "**Atribuição Posicional (Positional Assignment)**: é a forma comumente utilizada, onde  os valores são atribuídos aos parâmetros com base na ordem em que são declarados na assinatura da função."
   ],
   "metadata": {
    "collapsed": false
   }
  },
  {
   "cell_type": "code",
   "outputs": [
    {
     "name": "stdout",
     "output_type": "stream",
     "text": [
      "Nome: Alice, Idade: 25\r\n"
     ]
    }
   ],
   "source": [
    "fun imprimirDados(nome: String, idade: Int) {\n",
    "    println(\"Nome: $nome, Idade: $idade\")\n",
    "}\n",
    "\n",
    "// Atribuição posicional\n",
    "imprimirDados(\"Alice\", 25)"
   ],
   "metadata": {
    "collapsed": false,
    "ExecuteTime": {
     "end_time": "2024-03-04T12:22:04.852969800Z",
     "start_time": "2024-03-04T12:22:04.774848Z"
    }
   },
   "execution_count": 53
  },
  {
   "cell_type": "markdown",
   "source": [
    "Atribuição Nomeada (Named Assignment): Existe, mas não é muito utilizada. Permite atribuir valores aos parâmetros especificando o nome do parâmetro seguido por = e o valor correspondente."
   ],
   "metadata": {
    "collapsed": false
   }
  },
  {
   "cell_type": "code",
   "outputs": [
    {
     "name": "stdout",
     "output_type": "stream",
     "text": [
      "Nome: Kleber, Idade: 45 \r\n"
     ]
    }
   ],
   "source": [
    "fun imprimirDadosParametrosInvertidos(idade: Int, nome: String) {\n",
    "    println(\"Nome: $nome, Idade: $idade \")\n",
    "}\n",
    "\n",
    "// Atribuição Nomeada\n",
    "imprimirDadosParametrosInvertidos(nome=\"Kleber\",  idade=45)"
   ],
   "metadata": {
    "collapsed": false,
    "ExecuteTime": {
     "end_time": "2024-03-04T12:22:04.914176800Z",
     "start_time": "2024-03-04T12:22:04.854959900Z"
    }
   },
   "execution_count": 54
  },
  {
   "cell_type": "markdown",
   "source": [
    "### Parâmetros Padrão (Default Parameters):\n",
    "Caso a sua função possua a necessidade de garantir que um parâmetro possua sempre algum valor, o Kotlin permite definir valores padrão para os parâmetros. Isso significa que você pode fornecer valores padrão para alguns ou todos os parâmetros de uma função, permitindo que chamadores da função omitam esses parâmetros se desejarem.\n",
    "\n",
    "**Veja o exemplo abaixo**:"
   ],
   "metadata": {
    "collapsed": false
   }
  },
  {
   "cell_type": "code",
   "outputs": [
    {
     "name": "stdout",
     "output_type": "stream",
     "text": [
      "Allan saudou com um: Bom dia \r\n"
     ]
    }
   ],
   "source": [
    "fun saudar(nome:String, saudacao:String =\"Bom dia\"){\n",
    "    println(\"$nome saudou com um: $saudacao \")\n",
    "}\n",
    "saudar(\"Allan\")"
   ],
   "metadata": {
    "collapsed": false,
    "ExecuteTime": {
     "end_time": "2024-03-04T12:22:05.053302800Z",
     "start_time": "2024-03-04T12:22:04.987341800Z"
    }
   },
   "execution_count": 55
  },
  {
   "cell_type": "markdown",
   "source": [
    "### Infinitos Parâmetros (vararg e spread):"
   ],
   "metadata": {
    "collapsed": false
   }
  },
  {
   "cell_type": "markdown",
   "source": [
    "Em Kotlin,  existe a possibilidade de permitir que um parâmetro receba infinitos argumentos do mesmo tipo, através do recurso ***vararg***, o qual permite que uma função aceite um número variável de argumentos do mesmo tipo.\n",
    "\n",
    "Dentro do escopo da função, o **parâmetro** declarado como ***vararg*** é tratado como um ***array***, e você pode iterar sobre os elementos ou usá-los de outras maneiras.  \n",
    "\n",
    "Existem duas formas de passar os valores para um  ***vararg***: você pode passar os valores desejados diretamente na chamada da função, ou você pode utilizar o operador \"*\" (*Spread*) para descompactar uma lista de valores. Veja o exemplo abaixo."
   ],
   "metadata": {
    "collapsed": false
   }
  },
  {
   "cell_type": "code",
   "outputs": [
    {
     "name": "stdout",
     "output_type": "stream",
     "text": [
      "600\r\n",
      "0\r\n"
     ]
    }
   ],
   "source": [
    "// Definindo uma função chamada encontrarMaiorNumero que aceita um número variável de argumentos (varargs) inteiros\n",
    "fun encontrarMaiorNumero(vararg numeros: Int): Int? {\n",
    "    if (numeros.isEmpty()) {\n",
    "        return null;\n",
    "    }\n",
    "\n",
    "    var maiorNumero = numeros[0];\n",
    "\n",
    "    for (numero in numeros) {\n",
    "        if (numero > maiorNumero) {\n",
    "            maiorNumero = numero;\n",
    "        }\n",
    "    }\n",
    "\n",
    "    return maiorNumero;\n",
    "}\n",
    "\n",
    "// Exemplo de chamada da função com valores diretamente fornecidos\n",
    "println(encontrarMaiorNumero(1, 2, 3, 4, 5, 600, 7, 8, 9, 10))\n",
    "\n",
    "// Exemplo de chamada da função com descompactação de lista usando o operador spread '*'\n",
    "val valores = listOf(-4, -5, 0, -1, -9, -8)\n",
    "println(encontrarMaiorNumero(*valores.toIntArray()))"
   ],
   "metadata": {
    "collapsed": false,
    "ExecuteTime": {
     "end_time": "2024-03-04T12:22:05.332602200Z",
     "start_time": "2024-03-04T12:22:05.154034Z"
    }
   },
   "execution_count": 56
  },
  {
   "cell_type": "markdown",
   "source": [
    "O uso de parâmetros ***varargs*** é uma maneira eficiente e flexível de lidar com funções que podem aceitar um número variável de argumentos do mesmo tipo. Isso é comumente utilizado para simplificar chamadas de funções com diferentes quantidades de parâmetros."
   ],
   "metadata": {
    "collapsed": false
   }
  },
  {
   "cell_type": "markdown",
   "source": [
    "## Retornos\n",
    "Uma função sempre terá um retorno, mas nem sempre ele será explícito. Portanto, quanto ao tipo de retorno, as funções são divididas em dois tipos: **funções de retorno implícito** e **funções de retorno explícito**.\n",
    "\n",
    "## Funções de retorno implícito\n",
    "Explicando de forma didática, o retorno implícito é o *Void* que já conhecemos de outras linguagens. Porém, em Kotlin, não será *Void*, mas sim ***Unit***. Lembrando que funções de retorno implícito podem ter seu tipo também implícito, isto é, podemos colocar “Unit” ou não. Vejam as possibilidades:"
   ],
   "metadata": {
    "collapsed": false
   }
  },
  {
   "cell_type": "code",
   "outputs": [
    {
     "name": "stdout",
     "output_type": "stream",
     "text": [
      "Olá, Mundo!\r\n"
     ]
    }
   ],
   "source": [
    "// Função de retorno implícito, colocando o \"Unit\" e sem parâmetros\n",
    "fun printOlaMundo(): Unit {\n",
    "    println(\"Olá, Mundo!\")\n",
    "}\n",
    "\n",
    "printOlaMundo()"
   ],
   "metadata": {
    "collapsed": false,
    "ExecuteTime": {
     "end_time": "2024-03-04T12:22:05.384151800Z",
     "start_time": "2024-03-04T12:22:05.334603400Z"
    }
   },
   "execution_count": 57
  },
  {
   "cell_type": "code",
   "outputs": [
    {
     "name": "stdout",
     "output_type": "stream",
     "text": [
      "Olá, Marte!\r\n"
     ]
    }
   ],
   "source": [
    "// Função de retorno implícito, sem colocar o \"Unit\" e com parâmetros\n",
    "fun printOlaPlaneta(planeta: String) {\n",
    "    println(\"Olá, $planeta!\")\n",
    "}\n",
    "\n",
    "printOlaPlaneta(\"Marte\")"
   ],
   "metadata": {
    "collapsed": false,
    "ExecuteTime": {
     "end_time": "2024-03-04T12:22:05.444527100Z",
     "start_time": "2024-03-04T12:22:05.386355600Z"
    }
   },
   "execution_count": 58
  },
  {
   "cell_type": "code",
   "outputs": [
    {
     "name": "stdout",
     "output_type": "stream",
     "text": [
      "Funcionário do ID 3 agora possui o seguinte cargo: Desenvolvedor Sênior.\r\n"
     ]
    }
   ],
   "source": [
    "// Função para atualizar o cargo profissional de algum funcionário\n",
    "fun atualizarCargo(id: Int, novoCargo: String): Unit {\n",
    "    println(\"Funcionário do ID $id agora possui o seguinte cargo: $novoCargo.\")\n",
    "}\n",
    "\n",
    "atualizarCargo(3, \"Desenvolvedor Sênior\")"
   ],
   "metadata": {
    "collapsed": false,
    "ExecuteTime": {
     "end_time": "2024-03-04T12:22:05.512712600Z",
     "start_time": "2024-03-04T12:22:05.446708900Z"
    }
   },
   "execution_count": 59
  },
  {
   "cell_type": "markdown",
   "source": [
    "### Funções de retorno explícito\n",
    "Agora que compreendemos as **funções de retorno implícito**, vamos explorar as **funções de retorno explícito**. Essas são funções em que os resultados precisam ser explicitamente declarados (🤯). Sim, é isso mesmo: o tipo de retorno deve ser especificado, é uma exigência!\n",
    "\n",
    "Vejamos alguns exemplos:"
   ],
   "metadata": {
    "collapsed": false
   }
  },
  {
   "cell_type": "code",
   "outputs": [],
   "source": [
    "// Soma dois números e retorna um valor inteiro\n",
    "fun somar(a: Int, b: Int): Int {\n",
    "    return a + b\n",
    "}\n",
    "\n",
    "// Lê dois números, calcula a média deles e retorna um valor decimal\n",
    "fun calcularMedia (n1: Double, n2: Double): Double {\n",
    "\treturn (n1+n2) / 2\n",
    "}\n",
    "\n",
    "// Lê um número e retorna um booleano para caso ele seja par\n",
    "fun numeroPar(numero: Int): Boolean {\n",
    "    return numero % 2 == 0\n",
    "}\n",
    "\n",
    "// Cria uma lista imutável de strings\n",
    "fun criarLista(): List<String> {\n",
    "    return listOf(\"Paraíba\", \"Pernambuco\", \"Ceará\")\n",
    "}\n",
    "\n",
    "// Cria uma lista mutável de inteiros\n",
    "fun criarListaMutavel(): MutableList<Int> {\n",
    "    return mutableListOf(1, 2, 3)\n",
    "}"
   ],
   "metadata": {
    "collapsed": false,
    "ExecuteTime": {
     "end_time": "2024-03-04T12:22:05.673980800Z",
     "start_time": "2024-03-04T12:22:05.514716700Z"
    }
   },
   "execution_count": 60
  },
  {
   "cell_type": "markdown",
   "source": [
    "### Sugestão\n",
    "Aqui vai uma dica valiosa: se a sua função consiste em apenas uma linha de código que retorna um valor, você pode utilizar a \"sintaxe de expressão de função\" para tornar a sua escrita ainda mais concisa. Por exemplo:"
   ],
   "metadata": {
    "collapsed": false
   }
  },
  {
   "cell_type": "code",
   "outputs": [
    {
     "data": {
      "text/plain": "30"
     },
     "execution_count": 61,
     "metadata": {},
     "output_type": "execute_result"
    }
   ],
   "source": [
    "// Aquela mesma função somar apresentada anteriormente\n",
    "fun somar(a: Int, b: Int) = a + b\n",
    "\n",
    "somar(20, 10)"
   ],
   "metadata": {
    "collapsed": false,
    "ExecuteTime": {
     "end_time": "2024-03-04T12:22:05.746222200Z",
     "start_time": "2024-03-04T12:22:05.677447200Z"
    }
   },
   "execution_count": 61
  },
  {
   "cell_type": "markdown",
   "source": [
    "Nesse caso, o compilador é capaz de inferir o tipo de retorno da função como ***Int***, então você não precisa especificá-lo explicitamente."
   ],
   "metadata": {
    "collapsed": false
   }
  }
 ],
 "metadata": {
  "kernelspec": {
   "display_name": "Kotlin",
   "language": "kotlin",
   "name": "kotlin"
  },
  "language_info": {
   "name": "kotlin",
   "version": "1.9.0",
   "mimetype": "text/x-kotlin",
   "file_extension": ".kt",
   "pygments_lexer": "kotlin",
   "codemirror_mode": "text/x-kotlin",
   "nbconvert_exporter": ""
  }
 },
 "nbformat": 4,
 "nbformat_minor": 0
}
